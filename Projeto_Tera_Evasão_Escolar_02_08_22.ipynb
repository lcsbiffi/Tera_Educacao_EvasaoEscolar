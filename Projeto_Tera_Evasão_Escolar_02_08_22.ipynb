{
 "cells": [
  {
   "cell_type": "markdown",
   "metadata": {
    "colab_type": "text",
    "id": "view-in-github"
   },
   "source": [
    "<a href=\"https://colab.research.google.com/github/lcsbiffi/projetoTera_evasaoescolar/blob/main/Projeto_Tera_Evas%C3%A3o_Escolar.ipynb\" target=\"_parent\"><img src=\"https://colab.research.google.com/assets/colab-badge.svg\" alt=\"Open In Colab\"/></a>"
   ]
  },
  {
   "cell_type": "markdown",
   "metadata": {
    "id": "0I9wkY-VemZX"
   },
   "source": [
    "<h1>Projeto <font color=\"#62F41E\">Tera</font> - Evasão Escolar</h1>\n",
    "\n",
    "<HR>"
   ]
  },
  {
   "cell_type": "markdown",
   "metadata": {},
   "source": [
    "[Adicionar depois]\n",
    "\n",
    "Equipe:\n",
    "\n",
    "Contexto do Problema:\n",
    "\n",
    "Objetivos do Projeto:"
   ]
  },
  {
   "cell_type": "markdown",
   "metadata": {},
   "source": [
    "**Problema**\n",
    "\n",
    "Prever a evasão escolar e suas principais variáveis para que gestores escolares atuem ativamente em políticas de combate.\n",
    "\n",
    "\n",
    "**Hipóteses**\n",
    "\n",
    "1) As principais variáveis de evasão estão relacionadas a renda familiar.\n",
    "\n",
    "2) A variável de transporte está diretamente relacionada à evasão.\n",
    "\n",
    "3) Maternidade e paternidade na adolescência está entre as principais variáveis de evasão.\n",
    "\n",
    "4) A falta de professores está relacionada a evasão."
   ]
  },
  {
   "cell_type": "markdown",
   "metadata": {},
   "source": [
    "## Bibliotecas"
   ]
  },
  {
   "cell_type": "markdown",
   "metadata": {},
   "source": [
    "#### Instalando Novas Bibliotecas"
   ]
  },
  {
   "cell_type": "code",
   "execution_count": 1,
   "metadata": {},
   "outputs": [
    {
     "name": "stdout",
     "output_type": "stream",
     "text": [
      "Requirement already satisfied: missingno in c:\\users\\lizan\\anaconda3\\lib\\site-packages (0.5.1)\n",
      "Requirement already satisfied: seaborn in c:\\users\\lizan\\anaconda3\\lib\\site-packages (from missingno) (0.11.2)\n",
      "Requirement already satisfied: numpy in c:\\users\\lizan\\anaconda3\\lib\\site-packages (from missingno) (1.21.5)\n",
      "Requirement already satisfied: matplotlib in c:\\users\\lizan\\anaconda3\\lib\\site-packages (from missingno) (3.5.2)\n",
      "Requirement already satisfied: scipy in c:\\users\\lizan\\anaconda3\\lib\\site-packages (from missingno) (1.7.3)\n",
      "Requirement already satisfied: cycler>=0.10 in c:\\users\\lizan\\anaconda3\\lib\\site-packages (from matplotlib->missingno) (0.11.0)\n",
      "Requirement already satisfied: packaging>=20.0 in c:\\users\\lizan\\anaconda3\\lib\\site-packages (from matplotlib->missingno) (21.3)\n",
      "Requirement already satisfied: pyparsing>=2.2.1 in c:\\users\\lizan\\anaconda3\\lib\\site-packages (from matplotlib->missingno) (3.0.4)\n",
      "Requirement already satisfied: pillow>=6.2.0 in c:\\users\\lizan\\anaconda3\\lib\\site-packages (from matplotlib->missingno) (9.0.1)\n",
      "Requirement already satisfied: fonttools>=4.22.0 in c:\\users\\lizan\\anaconda3\\lib\\site-packages (from matplotlib->missingno) (4.25.0)\n",
      "Requirement already satisfied: python-dateutil>=2.7 in c:\\users\\lizan\\anaconda3\\lib\\site-packages (from matplotlib->missingno) (2.8.2)\n",
      "Requirement already satisfied: kiwisolver>=1.0.1 in c:\\users\\lizan\\anaconda3\\lib\\site-packages (from matplotlib->missingno) (1.3.2)\n",
      "Requirement already satisfied: six>=1.5 in c:\\users\\lizan\\anaconda3\\lib\\site-packages (from python-dateutil>=2.7->matplotlib->missingno) (1.16.0)\n",
      "Requirement already satisfied: pandas>=0.23 in c:\\users\\lizan\\anaconda3\\lib\\site-packages (from seaborn->missingno) (1.4.3)\n",
      "Requirement already satisfied: pytz>=2020.1 in c:\\users\\lizan\\anaconda3\\lib\\site-packages (from pandas>=0.23->seaborn->missingno) (2021.3)\n"
     ]
    },
    {
     "name": "stderr",
     "output_type": "stream",
     "text": [
      "WARNING: Ignoring invalid distribution -atplotlib (c:\\users\\lizan\\anaconda3\\lib\\site-packages)\n",
      "WARNING: Ignoring invalid distribution -atplotlib (c:\\users\\lizan\\anaconda3\\lib\\site-packages)\n",
      "WARNING: Ignoring invalid distribution -atplotlib (c:\\users\\lizan\\anaconda3\\lib\\site-packages)\n",
      "WARNING: Ignoring invalid distribution -atplotlib (c:\\users\\lizan\\anaconda3\\lib\\site-packages)\n",
      "WARNING: Ignoring invalid distribution -atplotlib (c:\\users\\lizan\\anaconda3\\lib\\site-packages)\n",
      "WARNING: Ignoring invalid distribution -atplotlib (c:\\users\\lizan\\anaconda3\\lib\\site-packages)\n"
     ]
    },
    {
     "name": "stdout",
     "output_type": "stream",
     "text": [
      "Requirement already satisfied: sweetviz in c:\\users\\lizan\\anaconda3\\lib\\site-packages (2.1.4)\n",
      "Requirement already satisfied: jinja2>=2.11.1 in c:\\users\\lizan\\anaconda3\\lib\\site-packages (from sweetviz) (3.0.3)\n",
      "Requirement already satisfied: tqdm>=4.43.0 in c:\\users\\lizan\\anaconda3\\lib\\site-packages (from sweetviz) (4.50.2)\n",
      "Requirement already satisfied: numpy>=1.16.0 in c:\\users\\lizan\\anaconda3\\lib\\site-packages (from sweetviz) (1.21.5)\n",
      "Requirement already satisfied: importlib-resources>=1.2.0 in c:\\users\\lizan\\anaconda3\\lib\\site-packages (from sweetviz) (5.9.0)\n",
      "Requirement already satisfied: matplotlib>=3.1.3 in c:\\users\\lizan\\anaconda3\\lib\\site-packages (from sweetviz) (3.5.2)\n",
      "Requirement already satisfied: pandas!=1.0.0,!=1.0.1,!=1.0.2,>=0.25.3 in c:\\users\\lizan\\anaconda3\\lib\\site-packages (from sweetviz) (1.4.3)\n",
      "Requirement already satisfied: scipy>=1.3.2 in c:\\users\\lizan\\anaconda3\\lib\\site-packages (from sweetviz) (1.7.3)\n",
      "Requirement already satisfied: zipp>=3.1.0 in c:\\users\\lizan\\anaconda3\\lib\\site-packages (from importlib-resources>=1.2.0->sweetviz) (3.7.0)\n",
      "Requirement already satisfied: MarkupSafe>=2.0 in c:\\users\\lizan\\anaconda3\\lib\\site-packages (from jinja2>=2.11.1->sweetviz) (2.0.1)\n",
      "Requirement already satisfied: kiwisolver>=1.0.1 in c:\\users\\lizan\\anaconda3\\lib\\site-packages (from matplotlib>=3.1.3->sweetviz) (1.3.2)\n",
      "Requirement already satisfied: python-dateutil>=2.7 in c:\\users\\lizan\\anaconda3\\lib\\site-packages (from matplotlib>=3.1.3->sweetviz) (2.8.2)\n",
      "Requirement already satisfied: fonttools>=4.22.0 in c:\\users\\lizan\\anaconda3\\lib\\site-packages (from matplotlib>=3.1.3->sweetviz) (4.25.0)\n",
      "Requirement already satisfied: pillow>=6.2.0 in c:\\users\\lizan\\anaconda3\\lib\\site-packages (from matplotlib>=3.1.3->sweetviz) (9.0.1)\n",
      "Requirement already satisfied: pyparsing>=2.2.1 in c:\\users\\lizan\\anaconda3\\lib\\site-packages (from matplotlib>=3.1.3->sweetviz) (3.0.4)\n",
      "Requirement already satisfied: cycler>=0.10 in c:\\users\\lizan\\anaconda3\\lib\\site-packages (from matplotlib>=3.1.3->sweetviz) (0.11.0)\n",
      "Requirement already satisfied: packaging>=20.0 in c:\\users\\lizan\\anaconda3\\lib\\site-packages (from matplotlib>=3.1.3->sweetviz) (21.3)\n",
      "Requirement already satisfied: pytz>=2020.1 in c:\\users\\lizan\\anaconda3\\lib\\site-packages (from pandas!=1.0.0,!=1.0.1,!=1.0.2,>=0.25.3->sweetviz) (2021.3)\n",
      "Requirement already satisfied: six>=1.5 in c:\\users\\lizan\\anaconda3\\lib\\site-packages (from python-dateutil>=2.7->matplotlib>=3.1.3->sweetviz) (1.16.0)\n"
     ]
    },
    {
     "name": "stderr",
     "output_type": "stream",
     "text": [
      "WARNING: Ignoring invalid distribution -atplotlib (c:\\users\\lizan\\anaconda3\\lib\\site-packages)\n",
      "WARNING: Ignoring invalid distribution -atplotlib (c:\\users\\lizan\\anaconda3\\lib\\site-packages)\n",
      "WARNING: Ignoring invalid distribution -atplotlib (c:\\users\\lizan\\anaconda3\\lib\\site-packages)\n",
      "WARNING: Ignoring invalid distribution -atplotlib (c:\\users\\lizan\\anaconda3\\lib\\site-packages)\n",
      "WARNING: Ignoring invalid distribution -atplotlib (c:\\users\\lizan\\anaconda3\\lib\\site-packages)\n",
      "WARNING: Ignoring invalid distribution -atplotlib (c:\\users\\lizan\\anaconda3\\lib\\site-packages)\n"
     ]
    },
    {
     "name": "stdout",
     "output_type": "stream",
     "text": [
      "Requirement already satisfied: matplotlib in c:\\users\\lizan\\anaconda3\\lib\\site-packages (3.5.2)\n",
      "Requirement already satisfied: pyparsing>=2.2.1 in c:\\users\\lizan\\anaconda3\\lib\\site-packages (from matplotlib) (3.0.4)\n",
      "Requirement already satisfied: packaging>=20.0 in c:\\users\\lizan\\anaconda3\\lib\\site-packages (from matplotlib) (21.3)\n",
      "Requirement already satisfied: pillow>=6.2.0 in c:\\users\\lizan\\anaconda3\\lib\\site-packages (from matplotlib) (9.0.1)\n",
      "Requirement already satisfied: cycler>=0.10 in c:\\users\\lizan\\anaconda3\\lib\\site-packages (from matplotlib) (0.11.0)\n",
      "Requirement already satisfied: numpy>=1.17 in c:\\users\\lizan\\anaconda3\\lib\\site-packages (from matplotlib) (1.21.5)\n",
      "Requirement already satisfied: kiwisolver>=1.0.1 in c:\\users\\lizan\\anaconda3\\lib\\site-packages (from matplotlib) (1.3.2)\n",
      "Requirement already satisfied: python-dateutil>=2.7 in c:\\users\\lizan\\anaconda3\\lib\\site-packages (from matplotlib) (2.8.2)\n",
      "Requirement already satisfied: fonttools>=4.22.0 in c:\\users\\lizan\\anaconda3\\lib\\site-packages (from matplotlib) (4.25.0)\n",
      "Requirement already satisfied: six>=1.5 in c:\\users\\lizan\\anaconda3\\lib\\site-packages (from python-dateutil>=2.7->matplotlib) (1.16.0)\n"
     ]
    },
    {
     "name": "stderr",
     "output_type": "stream",
     "text": [
      "WARNING: Ignoring invalid distribution -atplotlib (c:\\users\\lizan\\anaconda3\\lib\\site-packages)\n",
      "WARNING: Ignoring invalid distribution -atplotlib (c:\\users\\lizan\\anaconda3\\lib\\site-packages)\n",
      "WARNING: Ignoring invalid distribution -atplotlib (c:\\users\\lizan\\anaconda3\\lib\\site-packages)\n",
      "WARNING: Ignoring invalid distribution -atplotlib (c:\\users\\lizan\\anaconda3\\lib\\site-packages)\n",
      "WARNING: Ignoring invalid distribution -atplotlib (c:\\users\\lizan\\anaconda3\\lib\\site-packages)\n",
      "WARNING: Ignoring invalid distribution -atplotlib (c:\\users\\lizan\\anaconda3\\lib\\site-packages)\n"
     ]
    }
   ],
   "source": [
    "!pip install missingno\n",
    "!pip install sweetviz\n",
    "!pip install matplotlib"
   ]
  },
  {
   "cell_type": "markdown",
   "metadata": {},
   "source": [
    "#### Carregando Bibliotecas"
   ]
  },
  {
   "cell_type": "code",
   "execution_count": 2,
   "metadata": {},
   "outputs": [],
   "source": [
    "import numpy as np\n",
    "import pandas as pd\n",
    "import matplotlib.pyplot as plt\n",
    "import seaborn as sns\n",
    "import missingno as missing\n",
    "import sweetviz as sv\n",
    "\n",
    "pd.set_option('display.max_rows', None)\n",
    "pd.set_option('display.max_columns', None)\n",
    "pd.set_option('display.width', None)\n",
    "pd.set_option('display.max_colwidth', None)"
   ]
  },
  {
   "cell_type": "markdown",
   "metadata": {},
   "source": [
    "## Base de Dados"
   ]
  },
  {
   "cell_type": "markdown",
   "metadata": {},
   "source": [
    "[Falar um pouco sobre as Bases de Dados utilizadas]"
   ]
  },
  {
   "cell_type": "code",
   "execution_count": 3,
   "metadata": {},
   "outputs": [],
   "source": [
    "ideb = pd.read_csv('.\\Bases\\IDEB\\ideb_escola.csv')"
   ]
  },
  {
   "cell_type": "code",
   "execution_count": 4,
   "metadata": {},
   "outputs": [],
   "source": [
    "inep = pd.read_csv('.\\Bases\\Indicadores Educacionais\\indicadores_educacionais_escolas.csv')"
   ]
  },
  {
   "cell_type": "code",
   "execution_count": 5,
   "metadata": {},
   "outputs": [],
   "source": [
    "inse_2019 = pd.read_excel('.\\Bases\\Indicadores Educacionais\\indicadores_educacionais_INSE_2019.xlsx')"
   ]
  },
  {
   "cell_type": "code",
   "execution_count": 6,
   "metadata": {},
   "outputs": [
    {
     "name": "stderr",
     "output_type": "stream",
     "text": [
      "<ipython-input-6-52ae7d4b1d61>:1: DtypeWarning: Columns (5) have mixed types. Specify dtype option on import or set low_memory=False.\n",
      "  censo = pd.read_csv('.\\Bases\\Censo Escolar\\censo_escola.csv')\n"
     ]
    }
   ],
   "source": [
    "censo = pd.read_csv('.\\Bases\\Censo Escolar\\censo_escola.csv')"
   ]
  },
  {
   "cell_type": "markdown",
   "metadata": {},
   "source": [
    "## Analisando as Bases de Dados"
   ]
  },
  {
   "cell_type": "markdown",
   "metadata": {},
   "source": [
    "<HR>\n",
    "\n",
    "### IDEB\n",
    "\n",
    "<HR>"
   ]
  },
  {
   "cell_type": "markdown",
   "metadata": {},
   "source": [
    "Sobre o IDEB:\n",
    "\n",
    "O Índice de Desenvolvimento da Educação Básica (Ideb) foi criado em 2007 e reúne, em um só indicador, os resultados de dois conceitos igualmente importantes para a qualidade da educação: o fluxo escolar e as médias de desempenho nas avaliações.\n",
    "\n",
    "Ele é calculado a partir dos dados sobre aprovação escolar, obtidos no Censo Escolar, e das médias de desempenho nas avaliações do Inep, o Sistema de Avaliação da Educação Básica (Saeb) – para as unidades da federação e para o país, e a Prova Brasil – para os municípios.\n",
    "\n",
    "*O Ideb é resultado do produto entre o desempenho e o rendimento escolar (ou o inverso do tempo médio de conclusão de uma série) então ele pode ser interpretado da seguinte maneira: para uma escola A cuja média padronizada da Prova Brasil, 4ª série, é 5,0 e o tempo médio de conclusão de cada série é de 2 anos, a rede/ escola terá o Ideb igual a 5,0 multiplicado por 1/2, ou seja, Ideb = 2,5. Já uma escola B com média padronizada da Prova Brasil, 4ª série, igual a 5,0 e tempo médio para conclusão igual a 1 ano, terá Ideb = 5,0.\n",
    "\n",
    "A forma geral do Ideb é dada por:\n",
    "IDEBji = Nji Pji;\n",
    "\n",
    "em que,\n",
    "i = ano do exame (Saeb e Prova Brasil) e do Censo Escolar;\n",
    "N ji = média da proficiência em Língua Portuguesa e Matemática, padronizada para um indicador entre 0 e 10, dos alunos da unidade j, obtida em determinada edição do exame realizado ao final da etapa de ensino;\n",
    "P ji = indicador de rendimento baseado na taxa de aprovação da etapa de ensino dos alunos da unidade j;\n",
    "\n",
    " O índice varia de zero a 10 e a combinação entre fluxo e aprendizagem tem o mérito de equilibrar as duas dimensões: se um sistema de ensino retiver seus alunos para obter resultados de melhor qualidade no Saeb ou Prova Brasil, o fator fluxo será alterado, indicando a necessidade de melhoria do sistema. Se, ao contrário, o sistema apressar a aprovação do aluno sem qualidade, o resultado das avaliações indicará igualmente a necessidade de melhoria do sistema.\n",
    " \n",
    " O Ideb também é importante por ser condutor de política pública em prol da qualidade da educação. É a ferramenta para acompanhamento das metas de qualidade do Plano de Desenvolvimento da Educação (PDE) para a educação básica, que tem estabelecido, como meta, que em 2022 o Ideb do Brasil seja 6,0 – média que corresponde a um sistema educacional de qualidade comparável a dos países desenvolvidos.\n"
   ]
  },
  {
   "cell_type": "markdown",
   "metadata": {},
   "source": [
    "**Legenda**\n",
    "\n",
    "*ano* - Ano\n",
    "\n",
    "*sigla-uf* - Sigla da Unidade da Federação\n",
    "\n",
    "*id_município* - ID Município - IBGE 7 Dígitos\n",
    "\n",
    "*id_escola* - ID Escola\n",
    "\n",
    "*rede* - Rede Escolar\n",
    "\n",
    "*ensino* - Tipo de Ensino (fundamental ou médio)\n",
    "\n",
    "*anos_escolares* - Anos escolares (Iniciais (1-5), Finais (6-9), Todos (1-4) <- Ensino Médio)\n",
    "\n",
    "*taxa_aprovação* - Taxa de Aprovação (0 a 100) => Obtido no Censo Escolar\n",
    "\n",
    "*indicador_rendimento* - Indicador de Rendimento (P)\n",
    "\n",
    "*nota_saeb_matematica* - Nota SAEB - Matemática\n",
    "\n",
    "*nota_saeb_lingua_portuguesa* - Nota SAEB - Português\n",
    "\n",
    "*nota_saeb_media_padronizada* - Nota SAEB - Média Padronizada (N)\n",
    "\n",
    "*ideb* - IDEB (Média Padronizada (N) X Indicador de Rendimento (P)\n",
    "\n",
    "*projecao* - Projeção (acho que tem relação com a meta de projeção que eles colocam para cada escola)"
   ]
  },
  {
   "cell_type": "code",
   "execution_count": 7,
   "metadata": {},
   "outputs": [
    {
     "data": {
      "text/html": [
       "<div>\n",
       "<style scoped>\n",
       "    .dataframe tbody tr th:only-of-type {\n",
       "        vertical-align: middle;\n",
       "    }\n",
       "\n",
       "    .dataframe tbody tr th {\n",
       "        vertical-align: top;\n",
       "    }\n",
       "\n",
       "    .dataframe thead th {\n",
       "        text-align: right;\n",
       "    }\n",
       "</style>\n",
       "<table border=\"1\" class=\"dataframe\">\n",
       "  <thead>\n",
       "    <tr style=\"text-align: right;\">\n",
       "      <th></th>\n",
       "      <th>ano</th>\n",
       "      <th>sigla_uf</th>\n",
       "      <th>id_municipio</th>\n",
       "      <th>id_escola</th>\n",
       "      <th>rede</th>\n",
       "      <th>ensino</th>\n",
       "      <th>anos_escolares</th>\n",
       "      <th>taxa_aprovacao</th>\n",
       "      <th>indicador_rendimento</th>\n",
       "      <th>nota_saeb_matematica</th>\n",
       "      <th>nota_saeb_lingua_portuguesa</th>\n",
       "      <th>nota_saeb_media_padronizada</th>\n",
       "      <th>ideb</th>\n",
       "      <th>projecao</th>\n",
       "    </tr>\n",
       "  </thead>\n",
       "  <tbody>\n",
       "    <tr>\n",
       "      <th>0</th>\n",
       "      <td>2005</td>\n",
       "      <td>AC</td>\n",
       "      <td>1200013</td>\n",
       "      <td>12008966</td>\n",
       "      <td>municipal</td>\n",
       "      <td>fundamental</td>\n",
       "      <td>finais (6-9)</td>\n",
       "      <td>NaN</td>\n",
       "      <td>NaN</td>\n",
       "      <td>NaN</td>\n",
       "      <td>NaN</td>\n",
       "      <td>NaN</td>\n",
       "      <td>NaN</td>\n",
       "      <td>NaN</td>\n",
       "    </tr>\n",
       "    <tr>\n",
       "      <th>1</th>\n",
       "      <td>2005</td>\n",
       "      <td>AC</td>\n",
       "      <td>1200013</td>\n",
       "      <td>12008966</td>\n",
       "      <td>municipal</td>\n",
       "      <td>fundamental</td>\n",
       "      <td>iniciais (1-5)</td>\n",
       "      <td>NaN</td>\n",
       "      <td>NaN</td>\n",
       "      <td>NaN</td>\n",
       "      <td>NaN</td>\n",
       "      <td>NaN</td>\n",
       "      <td>NaN</td>\n",
       "      <td>NaN</td>\n",
       "    </tr>\n",
       "    <tr>\n",
       "      <th>2</th>\n",
       "      <td>2005</td>\n",
       "      <td>AC</td>\n",
       "      <td>1200013</td>\n",
       "      <td>12009156</td>\n",
       "      <td>municipal</td>\n",
       "      <td>fundamental</td>\n",
       "      <td>finais (6-9)</td>\n",
       "      <td>NaN</td>\n",
       "      <td>NaN</td>\n",
       "      <td>NaN</td>\n",
       "      <td>NaN</td>\n",
       "      <td>NaN</td>\n",
       "      <td>NaN</td>\n",
       "      <td>NaN</td>\n",
       "    </tr>\n",
       "    <tr>\n",
       "      <th>3</th>\n",
       "      <td>2005</td>\n",
       "      <td>AC</td>\n",
       "      <td>1200013</td>\n",
       "      <td>12009156</td>\n",
       "      <td>municipal</td>\n",
       "      <td>fundamental</td>\n",
       "      <td>iniciais (1-5)</td>\n",
       "      <td>NaN</td>\n",
       "      <td>NaN</td>\n",
       "      <td>NaN</td>\n",
       "      <td>NaN</td>\n",
       "      <td>NaN</td>\n",
       "      <td>NaN</td>\n",
       "      <td>NaN</td>\n",
       "    </tr>\n",
       "    <tr>\n",
       "      <th>4</th>\n",
       "      <td>2005</td>\n",
       "      <td>AC</td>\n",
       "      <td>1200013</td>\n",
       "      <td>12009164</td>\n",
       "      <td>estadual</td>\n",
       "      <td>fundamental</td>\n",
       "      <td>finais (6-9)</td>\n",
       "      <td>NaN</td>\n",
       "      <td>NaN</td>\n",
       "      <td>NaN</td>\n",
       "      <td>NaN</td>\n",
       "      <td>NaN</td>\n",
       "      <td>NaN</td>\n",
       "      <td>NaN</td>\n",
       "    </tr>\n",
       "  </tbody>\n",
       "</table>\n",
       "</div>"
      ],
      "text/plain": [
       "    ano sigla_uf  id_municipio  id_escola       rede       ensino  \\\n",
       "0  2005       AC       1200013   12008966  municipal  fundamental   \n",
       "1  2005       AC       1200013   12008966  municipal  fundamental   \n",
       "2  2005       AC       1200013   12009156  municipal  fundamental   \n",
       "3  2005       AC       1200013   12009156  municipal  fundamental   \n",
       "4  2005       AC       1200013   12009164   estadual  fundamental   \n",
       "\n",
       "   anos_escolares  taxa_aprovacao  indicador_rendimento  nota_saeb_matematica  \\\n",
       "0    finais (6-9)             NaN                   NaN                   NaN   \n",
       "1  iniciais (1-5)             NaN                   NaN                   NaN   \n",
       "2    finais (6-9)             NaN                   NaN                   NaN   \n",
       "3  iniciais (1-5)             NaN                   NaN                   NaN   \n",
       "4    finais (6-9)             NaN                   NaN                   NaN   \n",
       "\n",
       "   nota_saeb_lingua_portuguesa  nota_saeb_media_padronizada  ideb  projecao  \n",
       "0                          NaN                          NaN   NaN       NaN  \n",
       "1                          NaN                          NaN   NaN       NaN  \n",
       "2                          NaN                          NaN   NaN       NaN  \n",
       "3                          NaN                          NaN   NaN       NaN  \n",
       "4                          NaN                          NaN   NaN       NaN  "
      ]
     },
     "execution_count": 7,
     "metadata": {},
     "output_type": "execute_result"
    }
   ],
   "source": [
    "ideb.head()"
   ]
  },
  {
   "cell_type": "code",
   "execution_count": 8,
   "metadata": {
    "scrolled": false
   },
   "outputs": [
    {
     "name": "stdout",
     "output_type": "stream",
     "text": [
      "<class 'pandas.core.frame.DataFrame'>\n",
      "RangeIndex: 1027767 entries, 0 to 1027766\n",
      "Data columns (total 14 columns):\n",
      " #   Column                       Non-Null Count    Dtype  \n",
      "---  ------                       --------------    -----  \n",
      " 0   ano                          1027767 non-null  int64  \n",
      " 1   sigla_uf                     1027767 non-null  object \n",
      " 2   id_municipio                 1027767 non-null  int64  \n",
      " 3   id_escola                    1027767 non-null  int64  \n",
      " 4   rede                         1027767 non-null  object \n",
      " 5   ensino                       1027767 non-null  object \n",
      " 6   anos_escolares               1027767 non-null  object \n",
      " 7   taxa_aprovacao               619628 non-null   float64\n",
      " 8   indicador_rendimento         619580 non-null   float64\n",
      " 9   nota_saeb_matematica         488139 non-null   float64\n",
      " 10  nota_saeb_lingua_portuguesa  488139 non-null   float64\n",
      " 11  nota_saeb_media_padronizada  556480 non-null   float64\n",
      " 12  ideb                         556306 non-null   float64\n",
      " 13  projecao                     705363 non-null   float64\n",
      "dtypes: float64(7), int64(3), object(4)\n",
      "memory usage: 109.8+ MB\n"
     ]
    }
   ],
   "source": [
    "ideb.info()"
   ]
  },
  {
   "cell_type": "markdown",
   "metadata": {},
   "source": [
    "Temos valores NaN nas seguintes colunas:\n",
    "\n",
    "- taxa_aprovacao\n",
    "- indicador_rendimento\n",
    "- nota_saeb_matematica\n",
    "- nota_saeb_lingua_portuguesa\n",
    "- nota_saeb_media_padronizada\n",
    "- ideb \n",
    "- projecao"
   ]
  },
  {
   "cell_type": "code",
   "execution_count": 9,
   "metadata": {
    "scrolled": true
   },
   "outputs": [
    {
     "data": {
      "text/html": [
       "<div>\n",
       "<style scoped>\n",
       "    .dataframe tbody tr th:only-of-type {\n",
       "        vertical-align: middle;\n",
       "    }\n",
       "\n",
       "    .dataframe tbody tr th {\n",
       "        vertical-align: top;\n",
       "    }\n",
       "\n",
       "    .dataframe thead th {\n",
       "        text-align: right;\n",
       "    }\n",
       "</style>\n",
       "<table border=\"1\" class=\"dataframe\">\n",
       "  <thead>\n",
       "    <tr style=\"text-align: right;\">\n",
       "      <th></th>\n",
       "      <th>ano</th>\n",
       "      <th>sigla_uf</th>\n",
       "      <th>id_municipio</th>\n",
       "      <th>id_escola</th>\n",
       "      <th>rede</th>\n",
       "      <th>ensino</th>\n",
       "      <th>anos_escolares</th>\n",
       "      <th>taxa_aprovacao</th>\n",
       "      <th>indicador_rendimento</th>\n",
       "      <th>nota_saeb_matematica</th>\n",
       "      <th>nota_saeb_lingua_portuguesa</th>\n",
       "      <th>nota_saeb_media_padronizada</th>\n",
       "      <th>ideb</th>\n",
       "      <th>projecao</th>\n",
       "    </tr>\n",
       "  </thead>\n",
       "  <tbody>\n",
       "    <tr>\n",
       "      <th>count</th>\n",
       "      <td>1027767.0</td>\n",
       "      <td>1027767</td>\n",
       "      <td>1027767.0</td>\n",
       "      <td>1027767.0</td>\n",
       "      <td>1027767</td>\n",
       "      <td>1027767</td>\n",
       "      <td>1027767</td>\n",
       "      <td>619628.0</td>\n",
       "      <td>619580.0</td>\n",
       "      <td>488139.0</td>\n",
       "      <td>488139.0</td>\n",
       "      <td>556480.0</td>\n",
       "      <td>556306.0</td>\n",
       "      <td>705363.0</td>\n",
       "    </tr>\n",
       "    <tr>\n",
       "      <th>unique</th>\n",
       "      <td>NaN</td>\n",
       "      <td>27</td>\n",
       "      <td>NaN</td>\n",
       "      <td>NaN</td>\n",
       "      <td>4</td>\n",
       "      <td>2</td>\n",
       "      <td>3</td>\n",
       "      <td>NaN</td>\n",
       "      <td>NaN</td>\n",
       "      <td>NaN</td>\n",
       "      <td>NaN</td>\n",
       "      <td>NaN</td>\n",
       "      <td>NaN</td>\n",
       "      <td>NaN</td>\n",
       "    </tr>\n",
       "    <tr>\n",
       "      <th>top</th>\n",
       "      <td>NaN</td>\n",
       "      <td>SP</td>\n",
       "      <td>NaN</td>\n",
       "      <td>NaN</td>\n",
       "      <td>municipal</td>\n",
       "      <td>fundamental</td>\n",
       "      <td>iniciais (1-5)</td>\n",
       "      <td>NaN</td>\n",
       "      <td>NaN</td>\n",
       "      <td>NaN</td>\n",
       "      <td>NaN</td>\n",
       "      <td>NaN</td>\n",
       "      <td>NaN</td>\n",
       "      <td>NaN</td>\n",
       "    </tr>\n",
       "    <tr>\n",
       "      <th>freq</th>\n",
       "      <td>NaN</td>\n",
       "      <td>130434</td>\n",
       "      <td>NaN</td>\n",
       "      <td>NaN</td>\n",
       "      <td>645582</td>\n",
       "      <td>965727</td>\n",
       "      <td>559242</td>\n",
       "      <td>NaN</td>\n",
       "      <td>NaN</td>\n",
       "      <td>NaN</td>\n",
       "      <td>NaN</td>\n",
       "      <td>NaN</td>\n",
       "      <td>NaN</td>\n",
       "      <td>NaN</td>\n",
       "    </tr>\n",
       "    <tr>\n",
       "      <th>mean</th>\n",
       "      <td>2013.4</td>\n",
       "      <td>NaN</td>\n",
       "      <td>3088825.9</td>\n",
       "      <td>30875714.7</td>\n",
       "      <td>NaN</td>\n",
       "      <td>NaN</td>\n",
       "      <td>NaN</td>\n",
       "      <td>86.7</td>\n",
       "      <td>0.9</td>\n",
       "      <td>222.2</td>\n",
       "      <td>211.5</td>\n",
       "      <td>5.0</td>\n",
       "      <td>4.4</td>\n",
       "      <td>4.7</td>\n",
       "    </tr>\n",
       "    <tr>\n",
       "      <th>std</th>\n",
       "      <td>5.2</td>\n",
       "      <td>NaN</td>\n",
       "      <td>995739.8</td>\n",
       "      <td>9926413.0</td>\n",
       "      <td>NaN</td>\n",
       "      <td>NaN</td>\n",
       "      <td>NaN</td>\n",
       "      <td>11.4</td>\n",
       "      <td>0.1</td>\n",
       "      <td>34.8</td>\n",
       "      <td>37.5</td>\n",
       "      <td>0.9</td>\n",
       "      <td>1.2</td>\n",
       "      <td>1.1</td>\n",
       "    </tr>\n",
       "    <tr>\n",
       "      <th>min</th>\n",
       "      <td>2005.0</td>\n",
       "      <td>NaN</td>\n",
       "      <td>1100015.0</td>\n",
       "      <td>11000058.0</td>\n",
       "      <td>NaN</td>\n",
       "      <td>NaN</td>\n",
       "      <td>NaN</td>\n",
       "      <td>0.0</td>\n",
       "      <td>0.0</td>\n",
       "      <td>99.9</td>\n",
       "      <td>103.7</td>\n",
       "      <td>1.4</td>\n",
       "      <td>0.1</td>\n",
       "      <td>0.6</td>\n",
       "    </tr>\n",
       "    <tr>\n",
       "      <th>25%</th>\n",
       "      <td>2009.0</td>\n",
       "      <td>NaN</td>\n",
       "      <td>2311306.0</td>\n",
       "      <td>23197269.0</td>\n",
       "      <td>NaN</td>\n",
       "      <td>NaN</td>\n",
       "      <td>NaN</td>\n",
       "      <td>80.5</td>\n",
       "      <td>0.8</td>\n",
       "      <td>196.1</td>\n",
       "      <td>181.7</td>\n",
       "      <td>4.4</td>\n",
       "      <td>3.6</td>\n",
       "      <td>3.9</td>\n",
       "    </tr>\n",
       "    <tr>\n",
       "      <th>50%</th>\n",
       "      <td>2013.0</td>\n",
       "      <td>NaN</td>\n",
       "      <td>3114402.0</td>\n",
       "      <td>31044164.0</td>\n",
       "      <td>NaN</td>\n",
       "      <td>NaN</td>\n",
       "      <td>NaN</td>\n",
       "      <td>89.5</td>\n",
       "      <td>0.9</td>\n",
       "      <td>223.9</td>\n",
       "      <td>212.6</td>\n",
       "      <td>4.9</td>\n",
       "      <td>4.3</td>\n",
       "      <td>4.7</td>\n",
       "    </tr>\n",
       "    <tr>\n",
       "      <th>75%</th>\n",
       "      <td>2017.0</td>\n",
       "      <td>NaN</td>\n",
       "      <td>3550308.0</td>\n",
       "      <td>35436690.0</td>\n",
       "      <td>NaN</td>\n",
       "      <td>NaN</td>\n",
       "      <td>NaN</td>\n",
       "      <td>95.7</td>\n",
       "      <td>1.0</td>\n",
       "      <td>246.6</td>\n",
       "      <td>239.0</td>\n",
       "      <td>5.6</td>\n",
       "      <td>5.2</td>\n",
       "      <td>5.4</td>\n",
       "    </tr>\n",
       "    <tr>\n",
       "      <th>max</th>\n",
       "      <td>2021.0</td>\n",
       "      <td>NaN</td>\n",
       "      <td>5300108.0</td>\n",
       "      <td>53082001.0</td>\n",
       "      <td>NaN</td>\n",
       "      <td>NaN</td>\n",
       "      <td>NaN</td>\n",
       "      <td>100.0</td>\n",
       "      <td>1.0</td>\n",
       "      <td>432.7</td>\n",
       "      <td>377.8</td>\n",
       "      <td>9.9</td>\n",
       "      <td>9.9</td>\n",
       "      <td>9.5</td>\n",
       "    </tr>\n",
       "  </tbody>\n",
       "</table>\n",
       "</div>"
      ],
      "text/plain": [
       "              ano sigla_uf  id_municipio   id_escola       rede       ensino  \\\n",
       "count   1027767.0  1027767     1027767.0   1027767.0    1027767      1027767   \n",
       "unique        NaN       27           NaN         NaN          4            2   \n",
       "top           NaN       SP           NaN         NaN  municipal  fundamental   \n",
       "freq          NaN   130434           NaN         NaN     645582       965727   \n",
       "mean       2013.4      NaN     3088825.9  30875714.7        NaN          NaN   \n",
       "std           5.2      NaN      995739.8   9926413.0        NaN          NaN   \n",
       "min        2005.0      NaN     1100015.0  11000058.0        NaN          NaN   \n",
       "25%        2009.0      NaN     2311306.0  23197269.0        NaN          NaN   \n",
       "50%        2013.0      NaN     3114402.0  31044164.0        NaN          NaN   \n",
       "75%        2017.0      NaN     3550308.0  35436690.0        NaN          NaN   \n",
       "max        2021.0      NaN     5300108.0  53082001.0        NaN          NaN   \n",
       "\n",
       "        anos_escolares  taxa_aprovacao  indicador_rendimento  \\\n",
       "count          1027767        619628.0              619580.0   \n",
       "unique               3             NaN                   NaN   \n",
       "top     iniciais (1-5)             NaN                   NaN   \n",
       "freq            559242             NaN                   NaN   \n",
       "mean               NaN            86.7                   0.9   \n",
       "std                NaN            11.4                   0.1   \n",
       "min                NaN             0.0                   0.0   \n",
       "25%                NaN            80.5                   0.8   \n",
       "50%                NaN            89.5                   0.9   \n",
       "75%                NaN            95.7                   1.0   \n",
       "max                NaN           100.0                   1.0   \n",
       "\n",
       "        nota_saeb_matematica  nota_saeb_lingua_portuguesa  \\\n",
       "count               488139.0                     488139.0   \n",
       "unique                   NaN                          NaN   \n",
       "top                      NaN                          NaN   \n",
       "freq                     NaN                          NaN   \n",
       "mean                   222.2                        211.5   \n",
       "std                     34.8                         37.5   \n",
       "min                     99.9                        103.7   \n",
       "25%                    196.1                        181.7   \n",
       "50%                    223.9                        212.6   \n",
       "75%                    246.6                        239.0   \n",
       "max                    432.7                        377.8   \n",
       "\n",
       "        nota_saeb_media_padronizada      ideb  projecao  \n",
       "count                      556480.0  556306.0  705363.0  \n",
       "unique                          NaN       NaN       NaN  \n",
       "top                             NaN       NaN       NaN  \n",
       "freq                            NaN       NaN       NaN  \n",
       "mean                            5.0       4.4       4.7  \n",
       "std                             0.9       1.2       1.1  \n",
       "min                             1.4       0.1       0.6  \n",
       "25%                             4.4       3.6       3.9  \n",
       "50%                             4.9       4.3       4.7  \n",
       "75%                             5.6       5.2       5.4  \n",
       "max                             9.9       9.9       9.5  "
      ]
     },
     "execution_count": 9,
     "metadata": {},
     "output_type": "execute_result"
    }
   ],
   "source": [
    "ideb.describe(include = 'all').round(1)"
   ]
  },
  {
   "cell_type": "code",
   "execution_count": 10,
   "metadata": {},
   "outputs": [
    {
     "name": "stdout",
     "output_type": "stream",
     "text": [
      "2005    107303\n",
      "2007    107303\n",
      "2009    107303\n",
      "2011    107303\n",
      "2013    107303\n",
      "2015    107303\n",
      "2017    127983\n",
      "2019    127983\n",
      "2021    127983\n",
      "Name: ano, dtype: int64\n"
     ]
    }
   ],
   "source": [
    "ideb_anos = ideb['ano'].value_counts(sort = False)\n",
    "print(ideb_anos)"
   ]
  },
  {
   "cell_type": "code",
   "execution_count": 11,
   "metadata": {},
   "outputs": [
    {
     "data": {
      "image/png": "[encoded data removed]",
      "text/plain": [
       "<Figure size 640x480 with 1 Axes>"
      ]
     },
     "metadata": {},
     "output_type": "display_data"
    }
   ],
   "source": [
    "#Plotando um gráfico ao longo dos anos\n",
    "\n",
    "ideb.ano.value_counts(sort = False).plot(kind = 'bar')\n",
    "plt.show()"
   ]
  },
  {
   "cell_type": "markdown",
   "metadata": {},
   "source": [
    "Os dados são apresentados de 2 em 2 anos como pode ser observado. A partir de 2017 tem um acréscimo na quantidade de valores."
   ]
  },
  {
   "cell_type": "code",
   "execution_count": 12,
   "metadata": {
    "scrolled": true
   },
   "outputs": [
    {
     "name": "stdout",
     "output_type": "stream",
     "text": [
      "fundamental    93.963612\n",
      "medio           6.036388\n",
      "Name: ensino, dtype: float64\n"
     ]
    }
   ],
   "source": [
    "ideb_ensino = ideb['ensino'].value_counts(normalize=True)*100\n",
    "print(ideb_ensino)"
   ]
  },
  {
   "cell_type": "code",
   "execution_count": 13,
   "metadata": {},
   "outputs": [
    {
     "name": "stdout",
     "output_type": "stream",
     "text": [
      "iniciais (1-5)    559242\n",
      "finais (6-9)      406485\n",
      "todos (1-4)        62040\n",
      "Name: anos_escolares, dtype: int64\n"
     ]
    }
   ],
   "source": [
    "ideb_anos_escolares = ideb['anos_escolares'].value_counts()\n",
    "print(ideb_anos_escolares)"
   ]
  },
  {
   "cell_type": "markdown",
   "metadata": {},
   "source": [
    "Maioria das observações (93%) são de *turmas do Ensino Fundamental*"
   ]
  },
  {
   "cell_type": "code",
   "execution_count": 14,
   "metadata": {
    "scrolled": true
   },
   "outputs": [
    {
     "data": {
      "text/html": [
       "<div>\n",
       "<style scoped>\n",
       "    .dataframe tbody tr th:only-of-type {\n",
       "        vertical-align: middle;\n",
       "    }\n",
       "\n",
       "    .dataframe tbody tr th {\n",
       "        vertical-align: top;\n",
       "    }\n",
       "\n",
       "    .dataframe thead th {\n",
       "        text-align: right;\n",
       "    }\n",
       "</style>\n",
       "<table border=\"1\" class=\"dataframe\">\n",
       "  <thead>\n",
       "    <tr style=\"text-align: right;\">\n",
       "      <th></th>\n",
       "      <th>ano</th>\n",
       "      <th>sigla_uf</th>\n",
       "      <th>id_municipio</th>\n",
       "      <th>id_escola</th>\n",
       "      <th>rede</th>\n",
       "      <th>ensino</th>\n",
       "      <th>anos_escolares</th>\n",
       "      <th>taxa_aprovacao</th>\n",
       "      <th>indicador_rendimento</th>\n",
       "      <th>nota_saeb_matematica</th>\n",
       "      <th>nota_saeb_lingua_portuguesa</th>\n",
       "      <th>nota_saeb_media_padronizada</th>\n",
       "      <th>ideb</th>\n",
       "      <th>projecao</th>\n",
       "    </tr>\n",
       "  </thead>\n",
       "  <tbody>\n",
       "    <tr>\n",
       "      <th>643828</th>\n",
       "      <td>2017</td>\n",
       "      <td>AC</td>\n",
       "      <td>1200013</td>\n",
       "      <td>12018422</td>\n",
       "      <td>estadual</td>\n",
       "      <td>medio</td>\n",
       "      <td>todos (1-4)</td>\n",
       "      <td>89.7</td>\n",
       "      <td>0.894401</td>\n",
       "      <td>270.64</td>\n",
       "      <td>258.95</td>\n",
       "      <td>4.367425</td>\n",
       "      <td>3.9</td>\n",
       "      <td>NaN</td>\n",
       "    </tr>\n",
       "    <tr>\n",
       "      <th>643829</th>\n",
       "      <td>2017</td>\n",
       "      <td>AC</td>\n",
       "      <td>1200013</td>\n",
       "      <td>12021768</td>\n",
       "      <td>estadual</td>\n",
       "      <td>medio</td>\n",
       "      <td>todos (1-4)</td>\n",
       "      <td>74.6</td>\n",
       "      <td>0.753821</td>\n",
       "      <td>NaN</td>\n",
       "      <td>NaN</td>\n",
       "      <td>NaN</td>\n",
       "      <td>NaN</td>\n",
       "      <td>NaN</td>\n",
       "    </tr>\n",
       "    <tr>\n",
       "      <th>643835</th>\n",
       "      <td>2017</td>\n",
       "      <td>AC</td>\n",
       "      <td>1200013</td>\n",
       "      <td>12128236</td>\n",
       "      <td>estadual</td>\n",
       "      <td>medio</td>\n",
       "      <td>todos (1-4)</td>\n",
       "      <td>NaN</td>\n",
       "      <td>NaN</td>\n",
       "      <td>NaN</td>\n",
       "      <td>NaN</td>\n",
       "      <td>NaN</td>\n",
       "      <td>NaN</td>\n",
       "      <td>NaN</td>\n",
       "    </tr>\n",
       "    <tr>\n",
       "      <th>643839</th>\n",
       "      <td>2017</td>\n",
       "      <td>AC</td>\n",
       "      <td>1200054</td>\n",
       "      <td>12015946</td>\n",
       "      <td>estadual</td>\n",
       "      <td>medio</td>\n",
       "      <td>todos (1-4)</td>\n",
       "      <td>82.9</td>\n",
       "      <td>0.836626</td>\n",
       "      <td>NaN</td>\n",
       "      <td>NaN</td>\n",
       "      <td>NaN</td>\n",
       "      <td>NaN</td>\n",
       "      <td>NaN</td>\n",
       "    </tr>\n",
       "    <tr>\n",
       "      <th>643845</th>\n",
       "      <td>2017</td>\n",
       "      <td>AC</td>\n",
       "      <td>1200104</td>\n",
       "      <td>12016284</td>\n",
       "      <td>estadual</td>\n",
       "      <td>medio</td>\n",
       "      <td>todos (1-4)</td>\n",
       "      <td>95.3</td>\n",
       "      <td>0.958307</td>\n",
       "      <td>264.76</td>\n",
       "      <td>272.42</td>\n",
       "      <td>4.486338</td>\n",
       "      <td>4.3</td>\n",
       "      <td>NaN</td>\n",
       "    </tr>\n",
       "    <tr>\n",
       "      <th>643851</th>\n",
       "      <td>2017</td>\n",
       "      <td>AC</td>\n",
       "      <td>1200104</td>\n",
       "      <td>12017027</td>\n",
       "      <td>estadual</td>\n",
       "      <td>medio</td>\n",
       "      <td>todos (1-4)</td>\n",
       "      <td>NaN</td>\n",
       "      <td>NaN</td>\n",
       "      <td>NaN</td>\n",
       "      <td>NaN</td>\n",
       "      <td>NaN</td>\n",
       "      <td>NaN</td>\n",
       "      <td>NaN</td>\n",
       "    </tr>\n",
       "    <tr>\n",
       "      <th>643855</th>\n",
       "      <td>2017</td>\n",
       "      <td>AC</td>\n",
       "      <td>1200104</td>\n",
       "      <td>12026948</td>\n",
       "      <td>estadual</td>\n",
       "      <td>medio</td>\n",
       "      <td>todos (1-4)</td>\n",
       "      <td>91.0</td>\n",
       "      <td>0.892747</td>\n",
       "      <td>267.50</td>\n",
       "      <td>261.42</td>\n",
       "      <td>4.360010</td>\n",
       "      <td>3.9</td>\n",
       "      <td>NaN</td>\n",
       "    </tr>\n",
       "    <tr>\n",
       "      <th>643860</th>\n",
       "      <td>2017</td>\n",
       "      <td>AC</td>\n",
       "      <td>1200138</td>\n",
       "      <td>12009369</td>\n",
       "      <td>estadual</td>\n",
       "      <td>medio</td>\n",
       "      <td>todos (1-4)</td>\n",
       "      <td>96.2</td>\n",
       "      <td>0.963686</td>\n",
       "      <td>272.98</td>\n",
       "      <td>258.32</td>\n",
       "      <td>4.390859</td>\n",
       "      <td>4.2</td>\n",
       "      <td>NaN</td>\n",
       "    </tr>\n",
       "    <tr>\n",
       "      <th>643869</th>\n",
       "      <td>2017</td>\n",
       "      <td>AC</td>\n",
       "      <td>1200179</td>\n",
       "      <td>12009725</td>\n",
       "      <td>estadual</td>\n",
       "      <td>medio</td>\n",
       "      <td>todos (1-4)</td>\n",
       "      <td>84.6</td>\n",
       "      <td>0.866252</td>\n",
       "      <td>NaN</td>\n",
       "      <td>NaN</td>\n",
       "      <td>NaN</td>\n",
       "      <td>NaN</td>\n",
       "      <td>NaN</td>\n",
       "    </tr>\n",
       "    <tr>\n",
       "      <th>643875</th>\n",
       "      <td>2017</td>\n",
       "      <td>AC</td>\n",
       "      <td>1200179</td>\n",
       "      <td>12023396</td>\n",
       "      <td>estadual</td>\n",
       "      <td>medio</td>\n",
       "      <td>todos (1-4)</td>\n",
       "      <td>86.4</td>\n",
       "      <td>0.871753</td>\n",
       "      <td>NaN</td>\n",
       "      <td>NaN</td>\n",
       "      <td>NaN</td>\n",
       "      <td>NaN</td>\n",
       "      <td>NaN</td>\n",
       "    </tr>\n",
       "    <tr>\n",
       "      <th>643878</th>\n",
       "      <td>2017</td>\n",
       "      <td>AC</td>\n",
       "      <td>1200179</td>\n",
       "      <td>12030899</td>\n",
       "      <td>estadual</td>\n",
       "      <td>medio</td>\n",
       "      <td>todos (1-4)</td>\n",
       "      <td>87.2</td>\n",
       "      <td>0.880112</td>\n",
       "      <td>258.29</td>\n",
       "      <td>262.69</td>\n",
       "      <td>4.249668</td>\n",
       "      <td>3.7</td>\n",
       "      <td>NaN</td>\n",
       "    </tr>\n",
       "    <tr>\n",
       "      <th>643888</th>\n",
       "      <td>2017</td>\n",
       "      <td>AC</td>\n",
       "      <td>1200203</td>\n",
       "      <td>12000213</td>\n",
       "      <td>estadual</td>\n",
       "      <td>medio</td>\n",
       "      <td>todos (1-4)</td>\n",
       "      <td>80.1</td>\n",
       "      <td>0.808741</td>\n",
       "      <td>NaN</td>\n",
       "      <td>NaN</td>\n",
       "      <td>NaN</td>\n",
       "      <td>NaN</td>\n",
       "      <td>NaN</td>\n",
       "    </tr>\n",
       "    <tr>\n",
       "      <th>643897</th>\n",
       "      <td>2017</td>\n",
       "      <td>AC</td>\n",
       "      <td>1200203</td>\n",
       "      <td>12000418</td>\n",
       "      <td>estadual</td>\n",
       "      <td>medio</td>\n",
       "      <td>todos (1-4)</td>\n",
       "      <td>80.4</td>\n",
       "      <td>0.812164</td>\n",
       "      <td>NaN</td>\n",
       "      <td>NaN</td>\n",
       "      <td>NaN</td>\n",
       "      <td>NaN</td>\n",
       "      <td>NaN</td>\n",
       "    </tr>\n",
       "    <tr>\n",
       "      <th>643901</th>\n",
       "      <td>2017</td>\n",
       "      <td>AC</td>\n",
       "      <td>1200203</td>\n",
       "      <td>12000450</td>\n",
       "      <td>estadual</td>\n",
       "      <td>medio</td>\n",
       "      <td>todos (1-4)</td>\n",
       "      <td>88.5</td>\n",
       "      <td>0.909768</td>\n",
       "      <td>NaN</td>\n",
       "      <td>NaN</td>\n",
       "      <td>NaN</td>\n",
       "      <td>NaN</td>\n",
       "      <td>NaN</td>\n",
       "    </tr>\n",
       "    <tr>\n",
       "      <th>643915</th>\n",
       "      <td>2017</td>\n",
       "      <td>AC</td>\n",
       "      <td>1200203</td>\n",
       "      <td>12000906</td>\n",
       "      <td>estadual</td>\n",
       "      <td>medio</td>\n",
       "      <td>todos (1-4)</td>\n",
       "      <td>79.9</td>\n",
       "      <td>0.822935</td>\n",
       "      <td>NaN</td>\n",
       "      <td>NaN</td>\n",
       "      <td>NaN</td>\n",
       "      <td>NaN</td>\n",
       "      <td>NaN</td>\n",
       "    </tr>\n",
       "    <tr>\n",
       "      <th>643918</th>\n",
       "      <td>2017</td>\n",
       "      <td>AC</td>\n",
       "      <td>1200203</td>\n",
       "      <td>12000914</td>\n",
       "      <td>estadual</td>\n",
       "      <td>medio</td>\n",
       "      <td>todos (1-4)</td>\n",
       "      <td>86.8</td>\n",
       "      <td>0.877129</td>\n",
       "      <td>NaN</td>\n",
       "      <td>NaN</td>\n",
       "      <td>NaN</td>\n",
       "      <td>NaN</td>\n",
       "      <td>NaN</td>\n",
       "    </tr>\n",
       "    <tr>\n",
       "      <th>643920</th>\n",
       "      <td>2017</td>\n",
       "      <td>AC</td>\n",
       "      <td>1200203</td>\n",
       "      <td>12000930</td>\n",
       "      <td>estadual</td>\n",
       "      <td>medio</td>\n",
       "      <td>todos (1-4)</td>\n",
       "      <td>92.8</td>\n",
       "      <td>0.928381</td>\n",
       "      <td>249.28</td>\n",
       "      <td>253.99</td>\n",
       "      <td>3.993024</td>\n",
       "      <td>3.7</td>\n",
       "      <td>NaN</td>\n",
       "    </tr>\n",
       "    <tr>\n",
       "      <th>643922</th>\n",
       "      <td>2017</td>\n",
       "      <td>AC</td>\n",
       "      <td>1200203</td>\n",
       "      <td>12000973</td>\n",
       "      <td>estadual</td>\n",
       "      <td>medio</td>\n",
       "      <td>todos (1-4)</td>\n",
       "      <td>95.1</td>\n",
       "      <td>0.953353</td>\n",
       "      <td>NaN</td>\n",
       "      <td>NaN</td>\n",
       "      <td>NaN</td>\n",
       "      <td>NaN</td>\n",
       "      <td>NaN</td>\n",
       "    </tr>\n",
       "    <tr>\n",
       "      <th>643927</th>\n",
       "      <td>2017</td>\n",
       "      <td>AC</td>\n",
       "      <td>1200203</td>\n",
       "      <td>12001015</td>\n",
       "      <td>estadual</td>\n",
       "      <td>medio</td>\n",
       "      <td>todos (1-4)</td>\n",
       "      <td>94.8</td>\n",
       "      <td>0.955659</td>\n",
       "      <td>260.60</td>\n",
       "      <td>257.92</td>\n",
       "      <td>4.210845</td>\n",
       "      <td>4.0</td>\n",
       "      <td>NaN</td>\n",
       "    </tr>\n",
       "    <tr>\n",
       "      <th>643965</th>\n",
       "      <td>2017</td>\n",
       "      <td>AC</td>\n",
       "      <td>1200203</td>\n",
       "      <td>12001686</td>\n",
       "      <td>privada</td>\n",
       "      <td>medio</td>\n",
       "      <td>todos (1-4)</td>\n",
       "      <td>98.1</td>\n",
       "      <td>0.978442</td>\n",
       "      <td>NaN</td>\n",
       "      <td>NaN</td>\n",
       "      <td>NaN</td>\n",
       "      <td>NaN</td>\n",
       "      <td>NaN</td>\n",
       "    </tr>\n",
       "    <tr>\n",
       "      <th>643966</th>\n",
       "      <td>2017</td>\n",
       "      <td>AC</td>\n",
       "      <td>1200203</td>\n",
       "      <td>12020249</td>\n",
       "      <td>estadual</td>\n",
       "      <td>medio</td>\n",
       "      <td>todos (1-4)</td>\n",
       "      <td>72.5</td>\n",
       "      <td>0.702951</td>\n",
       "      <td>280.44</td>\n",
       "      <td>278.89</td>\n",
       "      <td>4.803428</td>\n",
       "      <td>3.4</td>\n",
       "      <td>NaN</td>\n",
       "    </tr>\n",
       "    <tr>\n",
       "      <th>643971</th>\n",
       "      <td>2017</td>\n",
       "      <td>AC</td>\n",
       "      <td>1200203</td>\n",
       "      <td>12021962</td>\n",
       "      <td>estadual</td>\n",
       "      <td>medio</td>\n",
       "      <td>todos (1-4)</td>\n",
       "      <td>NaN</td>\n",
       "      <td>NaN</td>\n",
       "      <td>NaN</td>\n",
       "      <td>NaN</td>\n",
       "      <td>NaN</td>\n",
       "      <td>NaN</td>\n",
       "      <td>NaN</td>\n",
       "    </tr>\n",
       "    <tr>\n",
       "      <th>643982</th>\n",
       "      <td>2017</td>\n",
       "      <td>AC</td>\n",
       "      <td>1200203</td>\n",
       "      <td>12029718</td>\n",
       "      <td>estadual</td>\n",
       "      <td>medio</td>\n",
       "      <td>todos (1-4)</td>\n",
       "      <td>NaN</td>\n",
       "      <td>NaN</td>\n",
       "      <td>NaN</td>\n",
       "      <td>NaN</td>\n",
       "      <td>NaN</td>\n",
       "      <td>NaN</td>\n",
       "      <td>NaN</td>\n",
       "    </tr>\n",
       "    <tr>\n",
       "      <th>643983</th>\n",
       "      <td>2017</td>\n",
       "      <td>AC</td>\n",
       "      <td>1200203</td>\n",
       "      <td>12030937</td>\n",
       "      <td>federal</td>\n",
       "      <td>medio</td>\n",
       "      <td>todos (1-4)</td>\n",
       "      <td>83.0</td>\n",
       "      <td>0.866843</td>\n",
       "      <td>NaN</td>\n",
       "      <td>NaN</td>\n",
       "      <td>NaN</td>\n",
       "      <td>NaN</td>\n",
       "      <td>NaN</td>\n",
       "    </tr>\n",
       "    <tr>\n",
       "      <th>643985</th>\n",
       "      <td>2017</td>\n",
       "      <td>AC</td>\n",
       "      <td>1200203</td>\n",
       "      <td>12033537</td>\n",
       "      <td>estadual</td>\n",
       "      <td>medio</td>\n",
       "      <td>todos (1-4)</td>\n",
       "      <td>NaN</td>\n",
       "      <td>NaN</td>\n",
       "      <td>NaN</td>\n",
       "      <td>NaN</td>\n",
       "      <td>NaN</td>\n",
       "      <td>NaN</td>\n",
       "      <td>NaN</td>\n",
       "    </tr>\n",
       "    <tr>\n",
       "      <th>643999</th>\n",
       "      <td>2017</td>\n",
       "      <td>AC</td>\n",
       "      <td>1200252</td>\n",
       "      <td>12031674</td>\n",
       "      <td>estadual</td>\n",
       "      <td>medio</td>\n",
       "      <td>todos (1-4)</td>\n",
       "      <td>74.9</td>\n",
       "      <td>0.749992</td>\n",
       "      <td>NaN</td>\n",
       "      <td>NaN</td>\n",
       "      <td>NaN</td>\n",
       "      <td>NaN</td>\n",
       "      <td>NaN</td>\n",
       "    </tr>\n",
       "    <tr>\n",
       "      <th>644007</th>\n",
       "      <td>2017</td>\n",
       "      <td>AC</td>\n",
       "      <td>1200302</td>\n",
       "      <td>12004197</td>\n",
       "      <td>estadual</td>\n",
       "      <td>medio</td>\n",
       "      <td>todos (1-4)</td>\n",
       "      <td>79.5</td>\n",
       "      <td>0.796414</td>\n",
       "      <td>264.61</td>\n",
       "      <td>263.51</td>\n",
       "      <td>4.350997</td>\n",
       "      <td>3.5</td>\n",
       "      <td>NaN</td>\n",
       "    </tr>\n",
       "    <tr>\n",
       "      <th>644022</th>\n",
       "      <td>2017</td>\n",
       "      <td>AC</td>\n",
       "      <td>1200328</td>\n",
       "      <td>12030155</td>\n",
       "      <td>estadual</td>\n",
       "      <td>medio</td>\n",
       "      <td>todos (1-4)</td>\n",
       "      <td>83.0</td>\n",
       "      <td>0.823635</td>\n",
       "      <td>NaN</td>\n",
       "      <td>NaN</td>\n",
       "      <td>NaN</td>\n",
       "      <td>NaN</td>\n",
       "      <td>NaN</td>\n",
       "    </tr>\n",
       "    <tr>\n",
       "      <th>644028</th>\n",
       "      <td>2017</td>\n",
       "      <td>AC</td>\n",
       "      <td>1200336</td>\n",
       "      <td>12001805</td>\n",
       "      <td>estadual</td>\n",
       "      <td>medio</td>\n",
       "      <td>todos (1-4)</td>\n",
       "      <td>93.3</td>\n",
       "      <td>0.916332</td>\n",
       "      <td>NaN</td>\n",
       "      <td>NaN</td>\n",
       "      <td>NaN</td>\n",
       "      <td>NaN</td>\n",
       "      <td>NaN</td>\n",
       "    </tr>\n",
       "    <tr>\n",
       "      <th>644030</th>\n",
       "      <td>2017</td>\n",
       "      <td>AC</td>\n",
       "      <td>1200336</td>\n",
       "      <td>12001945</td>\n",
       "      <td>estadual</td>\n",
       "      <td>medio</td>\n",
       "      <td>todos (1-4)</td>\n",
       "      <td>91.2</td>\n",
       "      <td>0.910402</td>\n",
       "      <td>NaN</td>\n",
       "      <td>NaN</td>\n",
       "      <td>NaN</td>\n",
       "      <td>NaN</td>\n",
       "      <td>NaN</td>\n",
       "    </tr>\n",
       "    <tr>\n",
       "      <th>644037</th>\n",
       "      <td>2017</td>\n",
       "      <td>AC</td>\n",
       "      <td>1200336</td>\n",
       "      <td>12002046</td>\n",
       "      <td>estadual</td>\n",
       "      <td>medio</td>\n",
       "      <td>todos (1-4)</td>\n",
       "      <td>97.2</td>\n",
       "      <td>0.962695</td>\n",
       "      <td>263.92</td>\n",
       "      <td>249.57</td>\n",
       "      <td>4.132474</td>\n",
       "      <td>4.0</td>\n",
       "      <td>NaN</td>\n",
       "    </tr>\n",
       "    <tr>\n",
       "      <th>644051</th>\n",
       "      <td>2017</td>\n",
       "      <td>AC</td>\n",
       "      <td>1200344</td>\n",
       "      <td>12006920</td>\n",
       "      <td>estadual</td>\n",
       "      <td>medio</td>\n",
       "      <td>todos (1-4)</td>\n",
       "      <td>79.4</td>\n",
       "      <td>0.806282</td>\n",
       "      <td>NaN</td>\n",
       "      <td>NaN</td>\n",
       "      <td>NaN</td>\n",
       "      <td>NaN</td>\n",
       "      <td>NaN</td>\n",
       "    </tr>\n",
       "    <tr>\n",
       "      <th>644072</th>\n",
       "      <td>2017</td>\n",
       "      <td>AC</td>\n",
       "      <td>1200351</td>\n",
       "      <td>12026328</td>\n",
       "      <td>estadual</td>\n",
       "      <td>medio</td>\n",
       "      <td>todos (1-4)</td>\n",
       "      <td>88.5</td>\n",
       "      <td>0.888784</td>\n",
       "      <td>250.38</td>\n",
       "      <td>252.58</td>\n",
       "      <td>3.987375</td>\n",
       "      <td>3.5</td>\n",
       "      <td>NaN</td>\n",
       "    </tr>\n",
       "    <tr>\n",
       "      <th>644094</th>\n",
       "      <td>2017</td>\n",
       "      <td>AC</td>\n",
       "      <td>1200385</td>\n",
       "      <td>12010731</td>\n",
       "      <td>estadual</td>\n",
       "      <td>medio</td>\n",
       "      <td>todos (1-4)</td>\n",
       "      <td>94.7</td>\n",
       "      <td>0.948244</td>\n",
       "      <td>236.52</td>\n",
       "      <td>244.13</td>\n",
       "      <td>3.666206</td>\n",
       "      <td>3.5</td>\n",
       "      <td>NaN</td>\n",
       "    </tr>\n",
       "    <tr>\n",
       "      <th>644100</th>\n",
       "      <td>2017</td>\n",
       "      <td>AC</td>\n",
       "      <td>1200385</td>\n",
       "      <td>12023779</td>\n",
       "      <td>estadual</td>\n",
       "      <td>medio</td>\n",
       "      <td>todos (1-4)</td>\n",
       "      <td>84.6</td>\n",
       "      <td>0.856679</td>\n",
       "      <td>NaN</td>\n",
       "      <td>NaN</td>\n",
       "      <td>NaN</td>\n",
       "      <td>NaN</td>\n",
       "      <td>NaN</td>\n",
       "    </tr>\n",
       "    <tr>\n",
       "      <th>644104</th>\n",
       "      <td>2017</td>\n",
       "      <td>AC</td>\n",
       "      <td>1200393</td>\n",
       "      <td>12003050</td>\n",
       "      <td>estadual</td>\n",
       "      <td>medio</td>\n",
       "      <td>todos (1-4)</td>\n",
       "      <td>79.3</td>\n",
       "      <td>0.809953</td>\n",
       "      <td>252.11</td>\n",
       "      <td>247.05</td>\n",
       "      <td>3.929028</td>\n",
       "      <td>3.2</td>\n",
       "      <td>NaN</td>\n",
       "    </tr>\n",
       "    <tr>\n",
       "      <th>644111</th>\n",
       "      <td>2017</td>\n",
       "      <td>AC</td>\n",
       "      <td>1200401</td>\n",
       "      <td>12010928</td>\n",
       "      <td>privada</td>\n",
       "      <td>medio</td>\n",
       "      <td>todos (1-4)</td>\n",
       "      <td>95.5</td>\n",
       "      <td>0.957171</td>\n",
       "      <td>290.39</td>\n",
       "      <td>293.94</td>\n",
       "      <td>5.168465</td>\n",
       "      <td>4.9</td>\n",
       "      <td>NaN</td>\n",
       "    </tr>\n",
       "    <tr>\n",
       "      <th>644112</th>\n",
       "      <td>2017</td>\n",
       "      <td>AC</td>\n",
       "      <td>1200401</td>\n",
       "      <td>12010936</td>\n",
       "      <td>privada</td>\n",
       "      <td>medio</td>\n",
       "      <td>todos (1-4)</td>\n",
       "      <td>96.7</td>\n",
       "      <td>0.965459</td>\n",
       "      <td>318.79</td>\n",
       "      <td>312.64</td>\n",
       "      <td>5.847291</td>\n",
       "      <td>5.6</td>\n",
       "      <td>NaN</td>\n",
       "    </tr>\n",
       "    <tr>\n",
       "      <th>644122</th>\n",
       "      <td>2017</td>\n",
       "      <td>AC</td>\n",
       "      <td>1200401</td>\n",
       "      <td>12011320</td>\n",
       "      <td>estadual</td>\n",
       "      <td>medio</td>\n",
       "      <td>todos (1-4)</td>\n",
       "      <td>91.0</td>\n",
       "      <td>0.910404</td>\n",
       "      <td>NaN</td>\n",
       "      <td>NaN</td>\n",
       "      <td>NaN</td>\n",
       "      <td>NaN</td>\n",
       "      <td>NaN</td>\n",
       "    </tr>\n",
       "    <tr>\n",
       "      <th>644127</th>\n",
       "      <td>2017</td>\n",
       "      <td>AC</td>\n",
       "      <td>1200401</td>\n",
       "      <td>12011410</td>\n",
       "      <td>federal</td>\n",
       "      <td>medio</td>\n",
       "      <td>todos (1-4)</td>\n",
       "      <td>86.1</td>\n",
       "      <td>0.859503</td>\n",
       "      <td>307.39</td>\n",
       "      <td>308.92</td>\n",
       "      <td>5.631631</td>\n",
       "      <td>4.8</td>\n",
       "      <td>NaN</td>\n",
       "    </tr>\n",
       "    <tr>\n",
       "      <th>644129</th>\n",
       "      <td>2017</td>\n",
       "      <td>AC</td>\n",
       "      <td>1200401</td>\n",
       "      <td>12011444</td>\n",
       "      <td>estadual</td>\n",
       "      <td>medio</td>\n",
       "      <td>todos (1-4)</td>\n",
       "      <td>81.9</td>\n",
       "      <td>0.794412</td>\n",
       "      <td>NaN</td>\n",
       "      <td>NaN</td>\n",
       "      <td>NaN</td>\n",
       "      <td>NaN</td>\n",
       "      <td>NaN</td>\n",
       "    </tr>\n",
       "    <tr>\n",
       "      <th>644132</th>\n",
       "      <td>2017</td>\n",
       "      <td>AC</td>\n",
       "      <td>1200401</td>\n",
       "      <td>12011517</td>\n",
       "      <td>estadual</td>\n",
       "      <td>medio</td>\n",
       "      <td>todos (1-4)</td>\n",
       "      <td>93.5</td>\n",
       "      <td>0.967869</td>\n",
       "      <td>270.04</td>\n",
       "      <td>272.51</td>\n",
       "      <td>4.561852</td>\n",
       "      <td>4.4</td>\n",
       "      <td>NaN</td>\n",
       "    </tr>\n",
       "    <tr>\n",
       "      <th>644137</th>\n",
       "      <td>2017</td>\n",
       "      <td>AC</td>\n",
       "      <td>1200401</td>\n",
       "      <td>12011584</td>\n",
       "      <td>estadual</td>\n",
       "      <td>medio</td>\n",
       "      <td>todos (1-4)</td>\n",
       "      <td>87.7</td>\n",
       "      <td>0.904002</td>\n",
       "      <td>NaN</td>\n",
       "      <td>NaN</td>\n",
       "      <td>NaN</td>\n",
       "      <td>NaN</td>\n",
       "      <td>NaN</td>\n",
       "    </tr>\n",
       "    <tr>\n",
       "      <th>644157</th>\n",
       "      <td>2017</td>\n",
       "      <td>AC</td>\n",
       "      <td>1200401</td>\n",
       "      <td>12012017</td>\n",
       "      <td>estadual</td>\n",
       "      <td>medio</td>\n",
       "      <td>todos (1-4)</td>\n",
       "      <td>82.8</td>\n",
       "      <td>0.862879</td>\n",
       "      <td>265.48</td>\n",
       "      <td>270.05</td>\n",
       "      <td>4.461121</td>\n",
       "      <td>3.8</td>\n",
       "      <td>NaN</td>\n",
       "    </tr>\n",
       "    <tr>\n",
       "      <th>644169</th>\n",
       "      <td>2017</td>\n",
       "      <td>AC</td>\n",
       "      <td>1200401</td>\n",
       "      <td>12012106</td>\n",
       "      <td>estadual</td>\n",
       "      <td>medio</td>\n",
       "      <td>todos (1-4)</td>\n",
       "      <td>NaN</td>\n",
       "      <td>NaN</td>\n",
       "      <td>NaN</td>\n",
       "      <td>NaN</td>\n",
       "      <td>NaN</td>\n",
       "      <td>NaN</td>\n",
       "      <td>NaN</td>\n",
       "    </tr>\n",
       "    <tr>\n",
       "      <th>644173</th>\n",
       "      <td>2017</td>\n",
       "      <td>AC</td>\n",
       "      <td>1200401</td>\n",
       "      <td>12012181</td>\n",
       "      <td>estadual</td>\n",
       "      <td>medio</td>\n",
       "      <td>todos (1-4)</td>\n",
       "      <td>93.4</td>\n",
       "      <td>0.937375</td>\n",
       "      <td>NaN</td>\n",
       "      <td>NaN</td>\n",
       "      <td>NaN</td>\n",
       "      <td>NaN</td>\n",
       "      <td>NaN</td>\n",
       "    </tr>\n",
       "    <tr>\n",
       "      <th>644176</th>\n",
       "      <td>2017</td>\n",
       "      <td>AC</td>\n",
       "      <td>1200401</td>\n",
       "      <td>12012297</td>\n",
       "      <td>estadual</td>\n",
       "      <td>medio</td>\n",
       "      <td>todos (1-4)</td>\n",
       "      <td>94.1</td>\n",
       "      <td>0.947368</td>\n",
       "      <td>NaN</td>\n",
       "      <td>NaN</td>\n",
       "      <td>NaN</td>\n",
       "      <td>NaN</td>\n",
       "      <td>NaN</td>\n",
       "    </tr>\n",
       "    <tr>\n",
       "      <th>644180</th>\n",
       "      <td>2017</td>\n",
       "      <td>AC</td>\n",
       "      <td>1200401</td>\n",
       "      <td>12012360</td>\n",
       "      <td>estadual</td>\n",
       "      <td>medio</td>\n",
       "      <td>todos (1-4)</td>\n",
       "      <td>76.6</td>\n",
       "      <td>0.741087</td>\n",
       "      <td>262.32</td>\n",
       "      <td>272.35</td>\n",
       "      <td>4.450880</td>\n",
       "      <td>3.3</td>\n",
       "      <td>NaN</td>\n",
       "    </tr>\n",
       "    <tr>\n",
       "      <th>644187</th>\n",
       "      <td>2017</td>\n",
       "      <td>AC</td>\n",
       "      <td>1200401</td>\n",
       "      <td>12012556</td>\n",
       "      <td>estadual</td>\n",
       "      <td>medio</td>\n",
       "      <td>todos (1-4)</td>\n",
       "      <td>78.1</td>\n",
       "      <td>0.765968</td>\n",
       "      <td>NaN</td>\n",
       "      <td>NaN</td>\n",
       "      <td>NaN</td>\n",
       "      <td>NaN</td>\n",
       "      <td>NaN</td>\n",
       "    </tr>\n",
       "    <tr>\n",
       "      <th>644189</th>\n",
       "      <td>2017</td>\n",
       "      <td>AC</td>\n",
       "      <td>1200401</td>\n",
       "      <td>12012564</td>\n",
       "      <td>estadual</td>\n",
       "      <td>medio</td>\n",
       "      <td>todos (1-4)</td>\n",
       "      <td>72.6</td>\n",
       "      <td>0.721736</td>\n",
       "      <td>NaN</td>\n",
       "      <td>NaN</td>\n",
       "      <td>NaN</td>\n",
       "      <td>NaN</td>\n",
       "      <td>NaN</td>\n",
       "    </tr>\n",
       "  </tbody>\n",
       "</table>\n",
       "</div>"
      ],
      "text/plain": [
       "         ano sigla_uf  id_municipio  id_escola      rede ensino  \\\n",
       "643828  2017       AC       1200013   12018422  estadual  medio   \n",
       "643829  2017       AC       1200013   12021768  estadual  medio   \n",
       "643835  2017       AC       1200013   12128236  estadual  medio   \n",
       "643839  2017       AC       1200054   12015946  estadual  medio   \n",
       "643845  2017       AC       1200104   12016284  estadual  medio   \n",
       "643851  2017       AC       1200104   12017027  estadual  medio   \n",
       "643855  2017       AC       1200104   12026948  estadual  medio   \n",
       "643860  2017       AC       1200138   12009369  estadual  medio   \n",
       "643869  2017       AC       1200179   12009725  estadual  medio   \n",
       "643875  2017       AC       1200179   12023396  estadual  medio   \n",
       "643878  2017       AC       1200179   12030899  estadual  medio   \n",
       "643888  2017       AC       1200203   12000213  estadual  medio   \n",
       "643897  2017       AC       1200203   12000418  estadual  medio   \n",
       "643901  2017       AC       1200203   12000450  estadual  medio   \n",
       "643915  2017       AC       1200203   12000906  estadual  medio   \n",
       "643918  2017       AC       1200203   12000914  estadual  medio   \n",
       "643920  2017       AC       1200203   12000930  estadual  medio   \n",
       "643922  2017       AC       1200203   12000973  estadual  medio   \n",
       "643927  2017       AC       1200203   12001015  estadual  medio   \n",
       "643965  2017       AC       1200203   12001686   privada  medio   \n",
       "643966  2017       AC       1200203   12020249  estadual  medio   \n",
       "643971  2017       AC       1200203   12021962  estadual  medio   \n",
       "643982  2017       AC       1200203   12029718  estadual  medio   \n",
       "643983  2017       AC       1200203   12030937   federal  medio   \n",
       "643985  2017       AC       1200203   12033537  estadual  medio   \n",
       "643999  2017       AC       1200252   12031674  estadual  medio   \n",
       "644007  2017       AC       1200302   12004197  estadual  medio   \n",
       "644022  2017       AC       1200328   12030155  estadual  medio   \n",
       "644028  2017       AC       1200336   12001805  estadual  medio   \n",
       "644030  2017       AC       1200336   12001945  estadual  medio   \n",
       "644037  2017       AC       1200336   12002046  estadual  medio   \n",
       "644051  2017       AC       1200344   12006920  estadual  medio   \n",
       "644072  2017       AC       1200351   12026328  estadual  medio   \n",
       "644094  2017       AC       1200385   12010731  estadual  medio   \n",
       "644100  2017       AC       1200385   12023779  estadual  medio   \n",
       "644104  2017       AC       1200393   12003050  estadual  medio   \n",
       "644111  2017       AC       1200401   12010928   privada  medio   \n",
       "644112  2017       AC       1200401   12010936   privada  medio   \n",
       "644122  2017       AC       1200401   12011320  estadual  medio   \n",
       "644127  2017       AC       1200401   12011410   federal  medio   \n",
       "644129  2017       AC       1200401   12011444  estadual  medio   \n",
       "644132  2017       AC       1200401   12011517  estadual  medio   \n",
       "644137  2017       AC       1200401   12011584  estadual  medio   \n",
       "644157  2017       AC       1200401   12012017  estadual  medio   \n",
       "644169  2017       AC       1200401   12012106  estadual  medio   \n",
       "644173  2017       AC       1200401   12012181  estadual  medio   \n",
       "644176  2017       AC       1200401   12012297  estadual  medio   \n",
       "644180  2017       AC       1200401   12012360  estadual  medio   \n",
       "644187  2017       AC       1200401   12012556  estadual  medio   \n",
       "644189  2017       AC       1200401   12012564  estadual  medio   \n",
       "\n",
       "       anos_escolares  taxa_aprovacao  indicador_rendimento  \\\n",
       "643828    todos (1-4)            89.7              0.894401   \n",
       "643829    todos (1-4)            74.6              0.753821   \n",
       "643835    todos (1-4)             NaN                   NaN   \n",
       "643839    todos (1-4)            82.9              0.836626   \n",
       "643845    todos (1-4)            95.3              0.958307   \n",
       "643851    todos (1-4)             NaN                   NaN   \n",
       "643855    todos (1-4)            91.0              0.892747   \n",
       "643860    todos (1-4)            96.2              0.963686   \n",
       "643869    todos (1-4)            84.6              0.866252   \n",
       "643875    todos (1-4)            86.4              0.871753   \n",
       "643878    todos (1-4)            87.2              0.880112   \n",
       "643888    todos (1-4)            80.1              0.808741   \n",
       "643897    todos (1-4)            80.4              0.812164   \n",
       "643901    todos (1-4)            88.5              0.909768   \n",
       "643915    todos (1-4)            79.9              0.822935   \n",
       "643918    todos (1-4)            86.8              0.877129   \n",
       "643920    todos (1-4)            92.8              0.928381   \n",
       "643922    todos (1-4)            95.1              0.953353   \n",
       "643927    todos (1-4)            94.8              0.955659   \n",
       "643965    todos (1-4)            98.1              0.978442   \n",
       "643966    todos (1-4)            72.5              0.702951   \n",
       "643971    todos (1-4)             NaN                   NaN   \n",
       "643982    todos (1-4)             NaN                   NaN   \n",
       "643983    todos (1-4)            83.0              0.866843   \n",
       "643985    todos (1-4)             NaN                   NaN   \n",
       "643999    todos (1-4)            74.9              0.749992   \n",
       "644007    todos (1-4)            79.5              0.796414   \n",
       "644022    todos (1-4)            83.0              0.823635   \n",
       "644028    todos (1-4)            93.3              0.916332   \n",
       "644030    todos (1-4)            91.2              0.910402   \n",
       "644037    todos (1-4)            97.2              0.962695   \n",
       "644051    todos (1-4)            79.4              0.806282   \n",
       "644072    todos (1-4)            88.5              0.888784   \n",
       "644094    todos (1-4)            94.7              0.948244   \n",
       "644100    todos (1-4)            84.6              0.856679   \n",
       "644104    todos (1-4)            79.3              0.809953   \n",
       "644111    todos (1-4)            95.5              0.957171   \n",
       "644112    todos (1-4)            96.7              0.965459   \n",
       "644122    todos (1-4)            91.0              0.910404   \n",
       "644127    todos (1-4)            86.1              0.859503   \n",
       "644129    todos (1-4)            81.9              0.794412   \n",
       "644132    todos (1-4)            93.5              0.967869   \n",
       "644137    todos (1-4)            87.7              0.904002   \n",
       "644157    todos (1-4)            82.8              0.862879   \n",
       "644169    todos (1-4)             NaN                   NaN   \n",
       "644173    todos (1-4)            93.4              0.937375   \n",
       "644176    todos (1-4)            94.1              0.947368   \n",
       "644180    todos (1-4)            76.6              0.741087   \n",
       "644187    todos (1-4)            78.1              0.765968   \n",
       "644189    todos (1-4)            72.6              0.721736   \n",
       "\n",
       "        nota_saeb_matematica  nota_saeb_lingua_portuguesa  \\\n",
       "643828                270.64                       258.95   \n",
       "643829                   NaN                          NaN   \n",
       "643835                   NaN                          NaN   \n",
       "643839                   NaN                          NaN   \n",
       "643845                264.76                       272.42   \n",
       "643851                   NaN                          NaN   \n",
       "643855                267.50                       261.42   \n",
       "643860                272.98                       258.32   \n",
       "643869                   NaN                          NaN   \n",
       "643875                   NaN                          NaN   \n",
       "643878                258.29                       262.69   \n",
       "643888                   NaN                          NaN   \n",
       "643897                   NaN                          NaN   \n",
       "643901                   NaN                          NaN   \n",
       "643915                   NaN                          NaN   \n",
       "643918                   NaN                          NaN   \n",
       "643920                249.28                       253.99   \n",
       "643922                   NaN                          NaN   \n",
       "643927                260.60                       257.92   \n",
       "643965                   NaN                          NaN   \n",
       "643966                280.44                       278.89   \n",
       "643971                   NaN                          NaN   \n",
       "643982                   NaN                          NaN   \n",
       "643983                   NaN                          NaN   \n",
       "643985                   NaN                          NaN   \n",
       "643999                   NaN                          NaN   \n",
       "644007                264.61                       263.51   \n",
       "644022                   NaN                          NaN   \n",
       "644028                   NaN                          NaN   \n",
       "644030                   NaN                          NaN   \n",
       "644037                263.92                       249.57   \n",
       "644051                   NaN                          NaN   \n",
       "644072                250.38                       252.58   \n",
       "644094                236.52                       244.13   \n",
       "644100                   NaN                          NaN   \n",
       "644104                252.11                       247.05   \n",
       "644111                290.39                       293.94   \n",
       "644112                318.79                       312.64   \n",
       "644122                   NaN                          NaN   \n",
       "644127                307.39                       308.92   \n",
       "644129                   NaN                          NaN   \n",
       "644132                270.04                       272.51   \n",
       "644137                   NaN                          NaN   \n",
       "644157                265.48                       270.05   \n",
       "644169                   NaN                          NaN   \n",
       "644173                   NaN                          NaN   \n",
       "644176                   NaN                          NaN   \n",
       "644180                262.32                       272.35   \n",
       "644187                   NaN                          NaN   \n",
       "644189                   NaN                          NaN   \n",
       "\n",
       "        nota_saeb_media_padronizada  ideb  projecao  \n",
       "643828                     4.367425   3.9       NaN  \n",
       "643829                          NaN   NaN       NaN  \n",
       "643835                          NaN   NaN       NaN  \n",
       "643839                          NaN   NaN       NaN  \n",
       "643845                     4.486338   4.3       NaN  \n",
       "643851                          NaN   NaN       NaN  \n",
       "643855                     4.360010   3.9       NaN  \n",
       "643860                     4.390859   4.2       NaN  \n",
       "643869                          NaN   NaN       NaN  \n",
       "643875                          NaN   NaN       NaN  \n",
       "643878                     4.249668   3.7       NaN  \n",
       "643888                          NaN   NaN       NaN  \n",
       "643897                          NaN   NaN       NaN  \n",
       "643901                          NaN   NaN       NaN  \n",
       "643915                          NaN   NaN       NaN  \n",
       "643918                          NaN   NaN       NaN  \n",
       "643920                     3.993024   3.7       NaN  \n",
       "643922                          NaN   NaN       NaN  \n",
       "643927                     4.210845   4.0       NaN  \n",
       "643965                          NaN   NaN       NaN  \n",
       "643966                     4.803428   3.4       NaN  \n",
       "643971                          NaN   NaN       NaN  \n",
       "643982                          NaN   NaN       NaN  \n",
       "643983                          NaN   NaN       NaN  \n",
       "643985                          NaN   NaN       NaN  \n",
       "643999                          NaN   NaN       NaN  \n",
       "644007                     4.350997   3.5       NaN  \n",
       "644022                          NaN   NaN       NaN  \n",
       "644028                          NaN   NaN       NaN  \n",
       "644030                          NaN   NaN       NaN  \n",
       "644037                     4.132474   4.0       NaN  \n",
       "644051                          NaN   NaN       NaN  \n",
       "644072                     3.987375   3.5       NaN  \n",
       "644094                     3.666206   3.5       NaN  \n",
       "644100                          NaN   NaN       NaN  \n",
       "644104                     3.929028   3.2       NaN  \n",
       "644111                     5.168465   4.9       NaN  \n",
       "644112                     5.847291   5.6       NaN  \n",
       "644122                          NaN   NaN       NaN  \n",
       "644127                     5.631631   4.8       NaN  \n",
       "644129                          NaN   NaN       NaN  \n",
       "644132                     4.561852   4.4       NaN  \n",
       "644137                          NaN   NaN       NaN  \n",
       "644157                     4.461121   3.8       NaN  \n",
       "644169                          NaN   NaN       NaN  \n",
       "644173                          NaN   NaN       NaN  \n",
       "644176                          NaN   NaN       NaN  \n",
       "644180                     4.450880   3.3       NaN  \n",
       "644187                          NaN   NaN       NaN  \n",
       "644189                          NaN   NaN       NaN  "
      ]
     },
     "execution_count": 14,
     "metadata": {},
     "output_type": "execute_result"
    }
   ],
   "source": [
    "ideb.loc[ideb['anos_escolares'] == 'todos (1-4)'].head(50)"
   ]
  },
  {
   "cell_type": "markdown",
   "metadata": {},
   "source": [
    "Confirmando aqui que o valor *todos (1-4)* da coluna *anos_escolares* se refere ao **ensino médio**"
   ]
  },
  {
   "cell_type": "markdown",
   "metadata": {},
   "source": [
    "Analisando a base por estado:"
   ]
  },
  {
   "cell_type": "code",
   "execution_count": 15,
   "metadata": {},
   "outputs": [
    {
     "data": {
      "text/plain": [
       "SP    130434\n",
       "MG     99678\n",
       "BA     91995\n",
       "RS     70107\n",
       "MA     62844\n",
       "CE     61152\n",
       "RJ     57183\n",
       "PA     54213\n",
       "PR     47964\n",
       "PE     47484\n",
       "SC     39036\n",
       "GO     32241\n",
       "PI     30117\n",
       "PB     27693\n",
       "AM     23148\n",
       "RN     21585\n",
       "MT     20739\n",
       "AL     19974\n",
       "ES     18351\n",
       "SE     14583\n",
       "MS     14148\n",
       "TO     12486\n",
       "RO     10698\n",
       "DF      6105\n",
       "AC      5202\n",
       "AP      4869\n",
       "RR      3738\n",
       "Name: sigla_uf, dtype: int64"
      ]
     },
     "execution_count": 15,
     "metadata": {},
     "output_type": "execute_result"
    }
   ],
   "source": [
    "ideb['sigla_uf'].value_counts()"
   ]
  },
  {
   "cell_type": "code",
   "execution_count": 16,
   "metadata": {},
   "outputs": [
    {
     "data": {
      "image/png": "[encoded data removed]",
      "text/plain": [
       "<Figure size 640x480 with 1 Axes>"
      ]
     },
     "metadata": {},
     "output_type": "display_data"
    }
   ],
   "source": [
    "ideb.sigla_uf.value_counts().sort_values(ascending = False).plot(kind = 'bar', )\n",
    "plt.show()"
   ]
  },
  {
   "cell_type": "markdown",
   "metadata": {},
   "source": [
    "SP tem a maior quantidade de Dados."
   ]
  },
  {
   "cell_type": "markdown",
   "metadata": {},
   "source": [
    "**% de nulos por estado:**"
   ]
  },
  {
   "cell_type": "code",
   "execution_count": 48,
   "metadata": {
    "scrolled": true
   },
   "outputs": [
    {
     "name": "stdout",
     "output_type": "stream",
     "text": [
      "sigla_uf\n",
      "RR    65.28\n",
      "MA    62.24\n",
      "PI    62.10\n",
      "PA    61.28\n",
      "BA    59.16\n",
      "AM    58.68\n",
      "AP    58.31\n",
      "AC    56.65\n",
      "PB    56.59\n",
      "RN    56.57\n",
      "SE    56.30\n",
      "CE    56.03\n",
      "AL    54.60\n",
      "MT    53.77\n",
      "TO    53.48\n",
      "PE    52.77\n",
      "RO    51.89\n",
      "RS    51.78\n",
      "RJ    48.67\n",
      "GO    47.81\n",
      "SC    47.76\n",
      "ES    47.11\n",
      "MS    46.97\n",
      "SP    46.56\n",
      "DF    46.42\n",
      "MG    44.77\n",
      "PR    43.77\n",
      "Name: nota_saeb_lingua_portuguesa, dtype: float64\n"
     ]
    }
   ],
   "source": [
    "ideb_null_estados = ideb.groupby('sigla_uf')['nota_saeb_lingua_portuguesa'].apply(lambda x: x.isnull().mean().round(4)*100)\n",
    "\n",
    "\n",
    "print(ideb_null_estados.sort_values(ascending = False))"
   ]
  },
  {
   "cell_type": "markdown",
   "metadata": {},
   "source": [
    "SP é um dos estados com menor quantidade de nulos."
   ]
  },
  {
   "cell_type": "markdown",
   "metadata": {},
   "source": [
    "**% nulos por ano:**"
   ]
  },
  {
   "cell_type": "code",
   "execution_count": 54,
   "metadata": {},
   "outputs": [
    {
     "name": "stdout",
     "output_type": "stream",
     "text": [
      "ano\n",
      "2015    100.00\n",
      "2021    100.00\n",
      "2005     56.57\n",
      "2017     40.10\n",
      "2007     39.97\n",
      "2013     34.93\n",
      "2019     34.40\n",
      "2011     33.60\n",
      "2009     29.71\n",
      "Name: nota_saeb_lingua_portuguesa, dtype: float64\n"
     ]
    }
   ],
   "source": [
    "ideb_null_anos = ideb.groupby('ano')['nota_saeb_lingua_portuguesa'].apply(lambda x: x.isnull().mean().round(4)*100)\n",
    "\n",
    "print(ideb_null_anos.sort_values(ascending = False))"
   ]
  },
  {
   "cell_type": "code",
   "execution_count": 51,
   "metadata": {
    "scrolled": true
   },
   "outputs": [
    {
     "name": "stdout",
     "output_type": "stream",
     "text": [
      "ano\n",
      "2021    127983\n",
      "2015    107303\n",
      "2005     60704\n",
      "2017     51320\n",
      "2019     44025\n",
      "2007     42887\n",
      "2013     37478\n",
      "2011     36051\n",
      "2009     31877\n",
      "Name: nota_saeb_lingua_portuguesa, dtype: int64\n"
     ]
    }
   ],
   "source": [
    "ideb_null_anos2 = ideb.groupby('ano')['nota_saeb_lingua_portuguesa'].apply(lambda x: x.isnull().sum())\n",
    "\n",
    "print(ideb_null_anos2.sort_values(ascending = False))"
   ]
  },
  {
   "cell_type": "markdown",
   "metadata": {},
   "source": [
    "Confirmando que os anos de 2021 e 2015 não tem dados na base do IDEB, fortes indícios que devemos dropar essas colunas!"
   ]
  },
  {
   "cell_type": "markdown",
   "metadata": {},
   "source": [
    "**%de nulos por tipo de ensino:**"
   ]
  },
  {
   "cell_type": "code",
   "execution_count": 56,
   "metadata": {},
   "outputs": [
    {
     "name": "stdout",
     "output_type": "stream",
     "text": [
      "ensino\n",
      "medio          65.05\n",
      "fundamental    51.70\n",
      "Name: nota_saeb_lingua_portuguesa, dtype: float64\n"
     ]
    }
   ],
   "source": [
    "ideb_null_ensino = ideb.groupby('ensino')['nota_saeb_lingua_portuguesa'].apply(lambda x: x.isnull().mean().round(4)*100)\n",
    "\n",
    "print(ideb_null_ensino.sort_values(ascending = False))"
   ]
  },
  {
   "cell_type": "code",
   "execution_count": 57,
   "metadata": {},
   "outputs": [
    {
     "data": {
      "text/plain": [
       "fundamental    965727\n",
       "medio           62040\n",
       "Name: ensino, dtype: int64"
      ]
     },
     "execution_count": 57,
     "metadata": {},
     "output_type": "execute_result"
    }
   ],
   "source": [
    "ideb['ensino'].value_counts()"
   ]
  },
  {
   "cell_type": "markdown",
   "metadata": {},
   "source": [
    "Medio tem um pouco mais de dados faltantes do que o fundamental e menor quantidade de dados."
   ]
  },
  {
   "cell_type": "markdown",
   "metadata": {},
   "source": [
    "**%de nulos por tipo de rede:**"
   ]
  },
  {
   "cell_type": "code",
   "execution_count": 58,
   "metadata": {},
   "outputs": [
    {
     "name": "stdout",
     "output_type": "stream",
     "text": [
      "rede\n",
      "privada      77.13\n",
      "federal      70.16\n",
      "municipal    53.66\n",
      "estadual     50.18\n",
      "Name: nota_saeb_lingua_portuguesa, dtype: float64\n"
     ]
    }
   ],
   "source": [
    "ideb_null_rede = ideb.groupby('rede')['nota_saeb_lingua_portuguesa'].apply(lambda x: x.isnull().mean().round(4)*100)\n",
    "\n",
    "print(ideb_null_rede.sort_values(ascending = False))"
   ]
  },
  {
   "cell_type": "code",
   "execution_count": 59,
   "metadata": {
    "scrolled": true
   },
   "outputs": [
    {
     "data": {
      "text/plain": [
       "municipal    645582\n",
       "estadual     376350\n",
       "privada        3747\n",
       "federal        2088\n",
       "Name: rede, dtype: int64"
      ]
     },
     "execution_count": 59,
     "metadata": {},
     "output_type": "execute_result"
    }
   ],
   "source": [
    "ideb['rede'].value_counts()"
   ]
  },
  {
   "cell_type": "markdown",
   "metadata": {},
   "source": [
    "Provavelmente, teremos que excluir os dados da rede privada! [Não é nosso objeto de estudo]"
   ]
  },
  {
   "cell_type": "markdown",
   "metadata": {},
   "source": [
    "A Federal tem mais dados nulos."
   ]
  },
  {
   "cell_type": "markdown",
   "metadata": {},
   "source": [
    "**%de nulos por anos_escolares:**"
   ]
  },
  {
   "cell_type": "code",
   "execution_count": 60,
   "metadata": {},
   "outputs": [
    {
     "name": "stdout",
     "output_type": "stream",
     "text": [
      "anos_escolares\n",
      "todos (1-4)       65.05\n",
      "finais (6-9)      52.08\n",
      "iniciais (1-5)    51.42\n",
      "Name: nota_saeb_lingua_portuguesa, dtype: float64\n"
     ]
    }
   ],
   "source": [
    "ideb_null_anos_escolares = ideb.groupby('anos_escolares')['nota_saeb_lingua_portuguesa'].apply(lambda x: x.isnull().mean().round(4)*100)\n",
    "\n",
    "print(ideb_null_anos_escolares.sort_values(ascending = False))"
   ]
  },
  {
   "cell_type": "markdown",
   "metadata": {},
   "source": [
    "\"todos (1-4)\" tem a mesma % de nulos para o ensino medio, pois significam a mesma coisa."
   ]
  },
  {
   "cell_type": "markdown",
   "metadata": {},
   "source": [
    "### Realizando o recorte na base para o estado de São Paulo (SP) e Ensino Médio"
   ]
  },
  {
   "cell_type": "code",
   "execution_count": 17,
   "metadata": {
    "scrolled": true
   },
   "outputs": [
    {
     "data": {
      "text/html": [
       "<div>\n",
       "<style scoped>\n",
       "    .dataframe tbody tr th:only-of-type {\n",
       "        vertical-align: middle;\n",
       "    }\n",
       "\n",
       "    .dataframe tbody tr th {\n",
       "        vertical-align: top;\n",
       "    }\n",
       "\n",
       "    .dataframe thead th {\n",
       "        text-align: right;\n",
       "    }\n",
       "</style>\n",
       "<table border=\"1\" class=\"dataframe\">\n",
       "  <thead>\n",
       "    <tr style=\"text-align: right;\">\n",
       "      <th></th>\n",
       "      <th>taxa_aprovacao</th>\n",
       "      <th>indicador_rendimento</th>\n",
       "      <th>nota_saeb_matematica</th>\n",
       "      <th>nota_saeb_lingua_portuguesa</th>\n",
       "      <th>nota_saeb_media_padronizada</th>\n",
       "      <th>ideb</th>\n",
       "    </tr>\n",
       "  </thead>\n",
       "  <tbody>\n",
       "    <tr>\n",
       "      <th>count</th>\n",
       "      <td>88752.0</td>\n",
       "      <td>88750.0</td>\n",
       "      <td>69704.0</td>\n",
       "      <td>69704.0</td>\n",
       "      <td>80440.0</td>\n",
       "      <td>80432.0</td>\n",
       "    </tr>\n",
       "    <tr>\n",
       "      <th>mean</th>\n",
       "      <td>94.1</td>\n",
       "      <td>0.9</td>\n",
       "      <td>236.4</td>\n",
       "      <td>225.2</td>\n",
       "      <td>5.5</td>\n",
       "      <td>5.2</td>\n",
       "    </tr>\n",
       "    <tr>\n",
       "      <th>std</th>\n",
       "      <td>5.8</td>\n",
       "      <td>0.1</td>\n",
       "      <td>28.9</td>\n",
       "      <td>33.6</td>\n",
       "      <td>0.9</td>\n",
       "      <td>1.0</td>\n",
       "    </tr>\n",
       "    <tr>\n",
       "      <th>min</th>\n",
       "      <td>0.0</td>\n",
       "      <td>0.1</td>\n",
       "      <td>131.8</td>\n",
       "      <td>122.2</td>\n",
       "      <td>2.4</td>\n",
       "      <td>0.6</td>\n",
       "    </tr>\n",
       "    <tr>\n",
       "      <th>25%</th>\n",
       "      <td>91.5</td>\n",
       "      <td>0.9</td>\n",
       "      <td>217.8</td>\n",
       "      <td>199.2</td>\n",
       "      <td>4.8</td>\n",
       "      <td>4.4</td>\n",
       "    </tr>\n",
       "    <tr>\n",
       "      <th>50%</th>\n",
       "      <td>95.8</td>\n",
       "      <td>1.0</td>\n",
       "      <td>237.7</td>\n",
       "      <td>226.4</td>\n",
       "      <td>5.3</td>\n",
       "      <td>5.1</td>\n",
       "    </tr>\n",
       "    <tr>\n",
       "      <th>75%</th>\n",
       "      <td>98.4</td>\n",
       "      <td>1.0</td>\n",
       "      <td>255.1</td>\n",
       "      <td>248.3</td>\n",
       "      <td>6.1</td>\n",
       "      <td>5.9</td>\n",
       "    </tr>\n",
       "    <tr>\n",
       "      <th>max</th>\n",
       "      <td>100.0</td>\n",
       "      <td>1.0</td>\n",
       "      <td>432.7</td>\n",
       "      <td>377.8</td>\n",
       "      <td>9.1</td>\n",
       "      <td>9.0</td>\n",
       "    </tr>\n",
       "  </tbody>\n",
       "</table>\n",
       "</div>"
      ],
      "text/plain": [
       "       taxa_aprovacao  indicador_rendimento  nota_saeb_matematica  \\\n",
       "count         88752.0               88750.0               69704.0   \n",
       "mean             94.1                   0.9                 236.4   \n",
       "std               5.8                   0.1                  28.9   \n",
       "min               0.0                   0.1                 131.8   \n",
       "25%              91.5                   0.9                 217.8   \n",
       "50%              95.8                   1.0                 237.7   \n",
       "75%              98.4                   1.0                 255.1   \n",
       "max             100.0                   1.0                 432.7   \n",
       "\n",
       "       nota_saeb_lingua_portuguesa  nota_saeb_media_padronizada     ideb  \n",
       "count                      69704.0                      80440.0  80432.0  \n",
       "mean                         225.2                          5.5      5.2  \n",
       "std                           33.6                          0.9      1.0  \n",
       "min                          122.2                          2.4      0.6  \n",
       "25%                          199.2                          4.8      4.4  \n",
       "50%                          226.4                          5.3      5.1  \n",
       "75%                          248.3                          6.1      5.9  \n",
       "max                          377.8                          9.1      9.0  "
      ]
     },
     "execution_count": 17,
     "metadata": {},
     "output_type": "execute_result"
    }
   ],
   "source": [
    "colunas = ['taxa_aprovacao', 'indicador_rendimento', 'nota_saeb_matematica', 'nota_saeb_lingua_portuguesa', 'nota_saeb_media_padronizada', 'ideb']\n",
    "ideb_SP = ideb.loc[ideb['sigla_uf'] == \"SP\"]\n",
    "ideb_SP[colunas].describe().round(1)"
   ]
  },
  {
   "cell_type": "code",
   "execution_count": 18,
   "metadata": {
    "scrolled": true
   },
   "outputs": [
    {
     "name": "stdout",
     "output_type": "stream",
     "text": [
      "<class 'pandas.core.frame.DataFrame'>\n",
      "Int64Index: 130434 entries, 92937 to 1026180\n",
      "Data columns (total 14 columns):\n",
      " #   Column                       Non-Null Count   Dtype  \n",
      "---  ------                       --------------   -----  \n",
      " 0   ano                          130434 non-null  int64  \n",
      " 1   sigla_uf                     130434 non-null  object \n",
      " 2   id_municipio                 130434 non-null  int64  \n",
      " 3   id_escola                    130434 non-null  int64  \n",
      " 4   rede                         130434 non-null  object \n",
      " 5   ensino                       130434 non-null  object \n",
      " 6   anos_escolares               130434 non-null  object \n",
      " 7   taxa_aprovacao               88752 non-null   float64\n",
      " 8   indicador_rendimento         88750 non-null   float64\n",
      " 9   nota_saeb_matematica         69704 non-null   float64\n",
      " 10  nota_saeb_lingua_portuguesa  69704 non-null   float64\n",
      " 11  nota_saeb_media_padronizada  80440 non-null   float64\n",
      " 12  ideb                         80432 non-null   float64\n",
      " 13  projecao                     93332 non-null   float64\n",
      "dtypes: float64(7), int64(3), object(4)\n",
      "memory usage: 14.9+ MB\n"
     ]
    }
   ],
   "source": [
    "ideb_SP.info()"
   ]
  },
  {
   "cell_type": "code",
   "execution_count": 19,
   "metadata": {},
   "outputs": [
    {
     "data": {
      "text/plain": [
       "ano                                0\n",
       "sigla_uf                           0\n",
       "id_municipio                       0\n",
       "id_escola                          0\n",
       "rede                               0\n",
       "ensino                             0\n",
       "anos_escolares                     0\n",
       "taxa_aprovacao                 41682\n",
       "indicador_rendimento           41684\n",
       "nota_saeb_matematica           60730\n",
       "nota_saeb_lingua_portuguesa    60730\n",
       "nota_saeb_media_padronizada    49994\n",
       "ideb                           50002\n",
       "projecao                       37102\n",
       "dtype: int64"
      ]
     },
     "execution_count": 19,
     "metadata": {},
     "output_type": "execute_result"
    }
   ],
   "source": [
    "ideb_SP.isnull().sum()"
   ]
  },
  {
   "cell_type": "code",
   "execution_count": 20,
   "metadata": {},
   "outputs": [
    {
     "data": {
      "text/plain": [
       "ano                             0.00\n",
       "sigla_uf                        0.00\n",
       "id_municipio                    0.00\n",
       "id_escola                       0.00\n",
       "rede                            0.00\n",
       "ensino                          0.00\n",
       "anos_escolares                  0.00\n",
       "taxa_aprovacao                 31.96\n",
       "indicador_rendimento           31.96\n",
       "nota_saeb_matematica           46.56\n",
       "nota_saeb_lingua_portuguesa    46.56\n",
       "nota_saeb_media_padronizada    38.33\n",
       "ideb                           38.34\n",
       "projecao                       28.45\n",
       "dtype: float64"
      ]
     },
     "execution_count": 20,
     "metadata": {},
     "output_type": "execute_result"
    }
   ],
   "source": [
    "ideb_SP.isnull().mean().round(4)*100"
   ]
  },
  {
   "cell_type": "markdown",
   "metadata": {},
   "source": [
    "Os dados nulos estão em grande % nesse Dataset, chegando a quase metade. Logo, deve-se olhar para esses nulos e seu preenchimento com mais cautela."
   ]
  },
  {
   "cell_type": "code",
   "execution_count": 21,
   "metadata": {},
   "outputs": [
    {
     "data": {
      "image/png": "[encoded data removed]",
      "text/plain": [
       "<Figure size 2500x1000 with 2 Axes>"
      ]
     },
     "metadata": {},
     "output_type": "display_data"
    }
   ],
   "source": [
    "#Aplicando uma bibloteca para visualizar melhor a localização dos dados nulos.\n",
    "\n",
    "missing.matrix(ideb_SP[ideb_SP.columns[ideb_SP.isnull().any()]])\n",
    "plt.show()"
   ]
  },
  {
   "cell_type": "markdown",
   "metadata": {},
   "source": [
    "Os dados faltantes estam na mesma linha, ou seja, não há dados da prova para estes casos. Vamos fazer o recorte para o Ensino Médio para enxergar melhor."
   ]
  },
  {
   "cell_type": "code",
   "execution_count": 22,
   "metadata": {},
   "outputs": [
    {
     "data": {
      "image/png": "[encoded data removed]",
      "text/plain": [
       "<Figure size 2500x1000 with 2 Axes>"
      ]
     },
     "metadata": {},
     "output_type": "display_data"
    }
   ],
   "source": [
    "ideb_SP2 = ideb_SP.loc[ideb_SP['ensino'] == 'medio']\n",
    "\n",
    "missing.matrix(ideb_SP2[ideb_SP2.columns[ideb_SP2.isnull().any()]])\n",
    "plt.show()"
   ]
  },
  {
   "cell_type": "markdown",
   "metadata": {},
   "source": [
    "Calculando a % de dados faltantes para a segmentação de SP ensino médio."
   ]
  },
  {
   "cell_type": "code",
   "execution_count": 23,
   "metadata": {},
   "outputs": [
    {
     "data": {
      "text/plain": [
       "ano                             0.00\n",
       "sigla_uf                        0.00\n",
       "id_municipio                    0.00\n",
       "id_escola                       0.00\n",
       "rede                            0.00\n",
       "ensino                          0.00\n",
       "anos_escolares                  0.00\n",
       "taxa_aprovacao                 36.37\n",
       "indicador_rendimento           36.37\n",
       "nota_saeb_matematica           63.57\n",
       "nota_saeb_lingua_portuguesa    63.57\n",
       "nota_saeb_media_padronizada    63.57\n",
       "ideb                           63.57\n",
       "projecao                       59.53\n",
       "dtype: float64"
      ]
     },
     "execution_count": 23,
     "metadata": {},
     "output_type": "execute_result"
    }
   ],
   "source": [
    "ideb_SP2.isnull().mean().round(4)*100"
   ]
  },
  {
   "cell_type": "markdown",
   "metadata": {},
   "source": [
    "A proporção de nulos aumentou, devemos pensar o que fazer com isso!\n",
    "\n",
    "Comentário (Liz): Eu não faria a substituição por médias agora, tentaria ver a similaridade entre as escolas e substituiria por cluster. Exemplo: escolas rurais, localizadas em município tal, com x estrutura tem a média nas notas X. Então, substituiria com base nisso."
   ]
  },
  {
   "cell_type": "markdown",
   "metadata": {},
   "source": [
    "**Aprofundando um pouco mais na questão dos nulos:**"
   ]
  },
  {
   "cell_type": "markdown",
   "metadata": {},
   "source": [
    "% de nulos por ano:"
   ]
  },
  {
   "cell_type": "code",
   "execution_count": 52,
   "metadata": {},
   "outputs": [
    {
     "name": "stdout",
     "output_type": "stream",
     "text": [
      "ano\n",
      "2021    100.00\n",
      "2017     56.17\n",
      "2019     34.54\n",
      "Name: nota_saeb_lingua_portuguesa, dtype: float64\n"
     ]
    }
   ],
   "source": [
    "ideb_SP2_null_anos = ideb_SP2.groupby('ano')['nota_saeb_lingua_portuguesa'].apply(lambda x: x.isnull().mean().round(4)*100)\n",
    "\n",
    "print(ideb_SP2_null_anos.sort_values(ascending = False))"
   ]
  },
  {
   "cell_type": "markdown",
   "metadata": {},
   "source": [
    "Verificando se só tem os anos de 2017 e 2019 na base de fato..."
   ]
  },
  {
   "cell_type": "code",
   "execution_count": 61,
   "metadata": {},
   "outputs": [
    {
     "name": "stdout",
     "output_type": "stream",
     "text": [
      "ano\n",
      "2021    4244\n",
      "2017    2384\n",
      "2019    1466\n",
      "Name: nota_saeb_lingua_portuguesa, dtype: int64\n"
     ]
    }
   ],
   "source": [
    "ideb_SP2_null_anos2 = ideb_SP2.groupby('ano')['nota_saeb_lingua_portuguesa'].apply(lambda x: x.isnull().sum())\n",
    "\n",
    "print(ideb_SP2_null_anos2.sort_values(ascending = False))"
   ]
  },
  {
   "cell_type": "code",
   "execution_count": 53,
   "metadata": {},
   "outputs": [
    {
     "data": {
      "text/plain": [
       "2017    4244\n",
       "2019    4244\n",
       "2021    4244\n",
       "Name: ano, dtype: int64"
      ]
     },
     "execution_count": 53,
     "metadata": {},
     "output_type": "execute_result"
    }
   ],
   "source": [
    "ideb_SP2['ano'].value_counts()"
   ]
  },
  {
   "cell_type": "markdown",
   "metadata": {},
   "source": [
    "=> **1º Conclusão**: A Base do IDEB segmentada para o Estado de São Paulo e Ensino Médio só tem dados de duas edições, ano de 2017 e 2019."
   ]
  },
  {
   "cell_type": "markdown",
   "metadata": {},
   "source": [
    "**%de nulos por tipo de rede:**"
   ]
  },
  {
   "cell_type": "code",
   "execution_count": 63,
   "metadata": {},
   "outputs": [
    {
     "name": "stdout",
     "output_type": "stream",
     "text": [
      "rede\n",
      "federal      80.65\n",
      "privada      74.81\n",
      "municipal    63.28\n",
      "estadual     62.80\n",
      "Name: nota_saeb_lingua_portuguesa, dtype: float64\n"
     ]
    }
   ],
   "source": [
    "ideb_SP2_null_rede = ideb_SP2.groupby('rede')['nota_saeb_lingua_portuguesa'].apply(lambda x: x.isnull().mean().round(4)*100)\n",
    "\n",
    "print(ideb_SP2_null_rede.sort_values(ascending = False))"
   ]
  },
  {
   "cell_type": "code",
   "execution_count": 64,
   "metadata": {
    "scrolled": true
   },
   "outputs": [
    {
     "data": {
      "text/plain": [
       "estadual     11787\n",
       "privada        675\n",
       "municipal      177\n",
       "federal         93\n",
       "Name: rede, dtype: int64"
      ]
     },
     "execution_count": 64,
     "metadata": {},
     "output_type": "execute_result"
    }
   ],
   "source": [
    "ideb_SP2['rede'].value_counts()"
   ]
  },
  {
   "cell_type": "markdown",
   "metadata": {},
   "source": [
    "## Excluindo Dados"
   ]
  },
  {
   "cell_type": "markdown",
   "metadata": {},
   "source": [
    "Devemos excluir:\n",
    "    \n",
    "    - Escolas da rede particular.\n",
    "    - Ano de 2021\n",
    "    - Coluna de Projecao"
   ]
  },
  {
   "cell_type": "code",
   "execution_count": 66,
   "metadata": {},
   "outputs": [
    {
     "data": {
      "text/plain": [
       "estadual     11787\n",
       "municipal      177\n",
       "federal         93\n",
       "Name: rede, dtype: int64"
      ]
     },
     "execution_count": 66,
     "metadata": {},
     "output_type": "execute_result"
    }
   ],
   "source": [
    "#Excluindo escolas da rede privada\n",
    "ideb_SP2_tratada = ideb_SP2[ideb_SP2.rede != \"privada\"]\n",
    "\n",
    "#Conferindo a exclusão\n",
    "ideb_SP2_tratada['rede'].value_counts()"
   ]
  },
  {
   "cell_type": "code",
   "execution_count": 67,
   "metadata": {},
   "outputs": [
    {
     "data": {
      "text/plain": [
       "2017    4019\n",
       "2019    4019\n",
       "Name: ano, dtype: int64"
      ]
     },
     "execution_count": 67,
     "metadata": {},
     "output_type": "execute_result"
    }
   ],
   "source": [
    "#Excluindo dados com o ano de 2021\n",
    "ideb_SP2_tratada = ideb_SP2_tratada[ideb_SP2_tratada.ano != 2021]\n",
    "\n",
    "#Conferindo a exclusão\n",
    "ideb_SP2_tratada['ano'].value_counts()"
   ]
  },
  {
   "cell_type": "code",
   "execution_count": 68,
   "metadata": {},
   "outputs": [
    {
     "data": {
      "text/html": [
       "<div>\n",
       "<style scoped>\n",
       "    .dataframe tbody tr th:only-of-type {\n",
       "        vertical-align: middle;\n",
       "    }\n",
       "\n",
       "    .dataframe tbody tr th {\n",
       "        vertical-align: top;\n",
       "    }\n",
       "\n",
       "    .dataframe thead th {\n",
       "        text-align: right;\n",
       "    }\n",
       "</style>\n",
       "<table border=\"1\" class=\"dataframe\">\n",
       "  <thead>\n",
       "    <tr style=\"text-align: right;\">\n",
       "      <th></th>\n",
       "      <th>ano</th>\n",
       "      <th>sigla_uf</th>\n",
       "      <th>id_municipio</th>\n",
       "      <th>id_escola</th>\n",
       "      <th>rede</th>\n",
       "      <th>ensino</th>\n",
       "      <th>anos_escolares</th>\n",
       "      <th>taxa_aprovacao</th>\n",
       "      <th>indicador_rendimento</th>\n",
       "      <th>nota_saeb_matematica</th>\n",
       "      <th>nota_saeb_lingua_portuguesa</th>\n",
       "      <th>nota_saeb_media_padronizada</th>\n",
       "      <th>ideb</th>\n",
       "    </tr>\n",
       "  </thead>\n",
       "  <tbody>\n",
       "    <tr>\n",
       "      <th>92937</th>\n",
       "      <td>2005</td>\n",
       "      <td>SP</td>\n",
       "      <td>3500105</td>\n",
       "      <td>35030806</td>\n",
       "      <td>estadual</td>\n",
       "      <td>fundamental</td>\n",
       "      <td>finais (6-9)</td>\n",
       "      <td>NaN</td>\n",
       "      <td>NaN</td>\n",
       "      <td>NaN</td>\n",
       "      <td>NaN</td>\n",
       "      <td>NaN</td>\n",
       "      <td>NaN</td>\n",
       "    </tr>\n",
       "    <tr>\n",
       "      <th>92938</th>\n",
       "      <td>2005</td>\n",
       "      <td>SP</td>\n",
       "      <td>3500105</td>\n",
       "      <td>35031045</td>\n",
       "      <td>estadual</td>\n",
       "      <td>fundamental</td>\n",
       "      <td>finais (6-9)</td>\n",
       "      <td>NaN</td>\n",
       "      <td>NaN</td>\n",
       "      <td>NaN</td>\n",
       "      <td>NaN</td>\n",
       "      <td>NaN</td>\n",
       "      <td>NaN</td>\n",
       "    </tr>\n",
       "    <tr>\n",
       "      <th>92939</th>\n",
       "      <td>2005</td>\n",
       "      <td>SP</td>\n",
       "      <td>3500105</td>\n",
       "      <td>35031112</td>\n",
       "      <td>estadual</td>\n",
       "      <td>fundamental</td>\n",
       "      <td>finais (6-9)</td>\n",
       "      <td>NaN</td>\n",
       "      <td>NaN</td>\n",
       "      <td>NaN</td>\n",
       "      <td>NaN</td>\n",
       "      <td>NaN</td>\n",
       "      <td>NaN</td>\n",
       "    </tr>\n",
       "    <tr>\n",
       "      <th>92940</th>\n",
       "      <td>2005</td>\n",
       "      <td>SP</td>\n",
       "      <td>3500105</td>\n",
       "      <td>35079911</td>\n",
       "      <td>municipal</td>\n",
       "      <td>fundamental</td>\n",
       "      <td>iniciais (1-5)</td>\n",
       "      <td>90.5</td>\n",
       "      <td>0.901503</td>\n",
       "      <td>184.16</td>\n",
       "      <td>177.78</td>\n",
       "      <td>4.711114</td>\n",
       "      <td>4.2</td>\n",
       "    </tr>\n",
       "    <tr>\n",
       "      <th>92941</th>\n",
       "      <td>2005</td>\n",
       "      <td>SP</td>\n",
       "      <td>3500105</td>\n",
       "      <td>35079923</td>\n",
       "      <td>municipal</td>\n",
       "      <td>fundamental</td>\n",
       "      <td>iniciais (1-5)</td>\n",
       "      <td>94.2</td>\n",
       "      <td>0.939028</td>\n",
       "      <td>171.97</td>\n",
       "      <td>168.77</td>\n",
       "      <td>4.314822</td>\n",
       "      <td>4.1</td>\n",
       "    </tr>\n",
       "  </tbody>\n",
       "</table>\n",
       "</div>"
      ],
      "text/plain": [
       "        ano sigla_uf  id_municipio  id_escola       rede       ensino  \\\n",
       "92937  2005       SP       3500105   35030806   estadual  fundamental   \n",
       "92938  2005       SP       3500105   35031045   estadual  fundamental   \n",
       "92939  2005       SP       3500105   35031112   estadual  fundamental   \n",
       "92940  2005       SP       3500105   35079911  municipal  fundamental   \n",
       "92941  2005       SP       3500105   35079923  municipal  fundamental   \n",
       "\n",
       "       anos_escolares  taxa_aprovacao  indicador_rendimento  \\\n",
       "92937    finais (6-9)             NaN                   NaN   \n",
       "92938    finais (6-9)             NaN                   NaN   \n",
       "92939    finais (6-9)             NaN                   NaN   \n",
       "92940  iniciais (1-5)            90.5              0.901503   \n",
       "92941  iniciais (1-5)            94.2              0.939028   \n",
       "\n",
       "       nota_saeb_matematica  nota_saeb_lingua_portuguesa  \\\n",
       "92937                   NaN                          NaN   \n",
       "92938                   NaN                          NaN   \n",
       "92939                   NaN                          NaN   \n",
       "92940                184.16                       177.78   \n",
       "92941                171.97                       168.77   \n",
       "\n",
       "       nota_saeb_media_padronizada  ideb  \n",
       "92937                          NaN   NaN  \n",
       "92938                          NaN   NaN  \n",
       "92939                          NaN   NaN  \n",
       "92940                     4.711114   4.2  \n",
       "92941                     4.314822   4.1  "
      ]
     },
     "execution_count": 68,
     "metadata": {},
     "output_type": "execute_result"
    }
   ],
   "source": [
    "# Excluindo a coluna projecao\n",
    "ideb_SP2_tratada = ideb_SP2_tratada.drop('projecao', axis=1)\n",
    "\n",
    "#Conferindo a exclusão\n",
    "ideb_SP.head()"
   ]
  },
  {
   "cell_type": "markdown",
   "metadata": {},
   "source": [
    "## Compreendendo as correlações - IDEB"
   ]
  },
  {
   "cell_type": "code",
   "execution_count": 34,
   "metadata": {},
   "outputs": [
    {
     "data": {
      "image/png": "[encoded data removed]",
      "text/plain": [
       "<Figure size 1200x800 with 2 Axes>"
      ]
     },
     "metadata": {},
     "output_type": "display_data"
    }
   ],
   "source": [
    "# Plotando a matriz de correlações usando um Heatmap para dar cor aos números\n",
    "\n",
    "sns.set_context(font_scale=1.9)\n",
    "plt.figure(figsize=(12,8))\n",
    "sns.heatmap(\n",
    "    ideb_SP.corr(), #Fonte dos dados, nossa matriz de correlação\n",
    "    annot=True, #Anotar os valores das correlações nas caixinhas coloridas\n",
    "    fmt='.2f', # Formato float de 2 dígitos, para arredondar os números\n",
    "    cmap='RdBu', # Mapa de cores do vermelho (menor) para o azul (maior)\n",
    "    mask=np.triu( # Faz uma matriz triangular\n",
    "        np.ones_like(ideb_SP.corr()) # usando como base uma matriz de '1's, do mesmo tamanho que a matriz de correlação\n",
    "    ) # A máscara vai então 'apagar' a diagonal superior da matriz\n",
    "           )\n",
    "plt.show()"
   ]
  },
  {
   "cell_type": "markdown",
   "metadata": {},
   "source": [
    "As notas de matemática e português tem uma forte correlação, porque? => Estudar isso"
   ]
  },
  {
   "cell_type": "markdown",
   "metadata": {},
   "source": [
    "***Comentário:***\n",
    "\n",
    "Devemos explorar um pouco mais essa base do IDEB, tentar entender o porquê das correlações."
   ]
  },
  {
   "cell_type": "markdown",
   "metadata": {},
   "source": [
    "[Liz] continuar aqui entendendo um pouco mais das correlações da base do IDEB entre si e com outras variáveis de outras bases. Principalmente, a target."
   ]
  },
  {
   "cell_type": "markdown",
   "metadata": {},
   "source": [
    "<HR>\n",
    "\n",
    "## INSE\n",
    "\n",
    "<HR>"
   ]
  },
  {
   "cell_type": "markdown",
   "metadata": {},
   "source": [
    "#### LEGENDA"
   ]
  },
  {
   "cell_type": "markdown",
   "metadata": {},
   "source": [
    "**COLUNAS** (deixei as com significados óbvios)\n",
    "\n",
    "* ID_AREA - Área da Escola (relacionada ao município) 1 - Capital 2 - Interior\n",
    "* TP_LOCALIZACAO - Localização da Escola 1 - Urbana 2 - Rural\n",
    "* TP_DEPENDENCIA - Dependência adm da escola 1 - Federal 2 - Estadual 3 - Municipal\n",
    "* INSE_CLASSIFICACAO - Classificação do Indicador de Nível Socioeconômico\n",
    "\n",
    "**INDICADOR DE NÍVEL SOCIOECONÔMICO**\n",
    "\n",
    "* **Nível I** - Este é o nível inferior da escala, no qual os estudantes têm dois ou mais desvios-padrão abaixo da média nacional do Inse. Considerando a maioria dos estudantes, o pai/responsável não completou o 5º ano do ensino fundamental e a mãe/responsável tem o 5º ano do ensino fundamental incompleto ou completo. A maioria dos estudantes deste nível possui uma geladeira, um ou dois quartos, uma televisão e um banheiro. Mas não possui muitos dos bens e serviços pesquisados (i.e., computador, carro, wi-fi, mesa para estudar, garagem, micro-ondas, aspirador de pó, máquina de lavar roupa e freezer).\n",
    "* **Nível II** - Neste nível, os estudantes estão entre um e dois desvios-padrão abaixo da média nacional do Inse. Considerando a maioria dos estudantes, a mãe/responsável e/ou o pai/responsável tem o 5º ano do ensino fundamental incompleto ou completo. A maioria possui uma geladeira, um ou dois quartos, uma televisão e um banheiro. Mas não possui muitos dos bens e serviços pesquisados, exceto uma parte dos estudantes deste nível passa a ter freezer, máquina de lavar roupa e três ou mais quartos para dormir em sua casa.\n",
    "* **Nível III** - Neste nível, os estudantes estão entre meio e um desvio-padrão abaixo da média nacional do Inse. Considerando a maioria dos estudantes, a mãe/responsável e o pai/responsável têm o ensino fundamental incompleto ou completo e/ou ensino médio completo. A maioria possui uma geladeira, um ou dois quartos, uma televisão, um banheiro, wi-fi e máquina de lavar roupas, mas não possui computador, carro, garagem e aspirador de pó. Parte dos estudantes passa a ter também freezer e forno de micro-ondas.\n",
    "* **Nível IV** - Neste nível, os estudantes estão até meio desvio-padrão abaixo da média nacional do Inse. Considerando a maioria dos estudantes, a mãe/responsável e o pai/responsável têm o ensino fundamental incompleto ou completo e/ou ensino médio completo. A maioria possui uma geladeira, um ou dois quartos, um banheiro, wi-fi, máquina de lavar roupas e freezer, mas não possui aspirador de pó. Parte dos estudantes deste nível passa a ter também computador, carro, mesa de estudos, garagem, forno de micro-ondas e uma ou duas televisões.\n",
    "* **Nível V** - Neste nível, os estudantes estão até meio desvio-padrão acima da média nacional do Inse. Considerando a maioria dos estudantes, a mãe/responsável tem o ensino médio completo ou ensino superior completo, o pai/responsável tem do ensino fundamental completo até o ensino superior completo. A maioria possui uma geladeira, um ou dois quartos, um banheiro, wi-fi, máquina de lavar roupas, freezer, um carro, garagem, forno de micro-ondas. Parte dos estudantes deste nível passa a ter também dois banheiros.\n",
    "* **Nível VI** - Neste nível, os estudantes estão de meio a um desvio-padrão acima da média nacional do Inse. Considerando a maioria dos estudantes, a mãe/responsável e/ou o pai/responsável têm o ensino médio completo ou o ensino superior completo. A maioria possui uma geladeira, dois ou três ou mais quartos, um banheiro, wi-fi, máquina de lavar roupas, freezer, um carro, garagem, forno de micro-ondas, mesa para estudos e aspirador de pó. Parte dos estudantes deste nível passa a ter também dois ou mais computadores e três ou mais televisões\n",
    "* **Nível VII** - Neste nível, os estudantes estão de um a dois desvios-padrão acima da média nacional do Inse. Considerando a maioria dos estudantes, a mãe/responsável e/ou o pai/responsável têm ensino médio completo ou ensino superior completo. A maioria possui uma geladeira, três ou mais quartos, um banheiro, wi-fi, máquina de lavar roupas, freezer, um carro, garagem, forno de micro-ondas, mesa para estudos e aspirador de pó. Parte dos estudantes deste nível passa a ter também dois ou mais carros, três ou mais banheiros e duas ou mais geladeiras.\n",
    "* **Nível VIII** - Este é o nível superior da escala, no qual os estudantes estão dois desvios-padrão ou mais acima da média nacional do Inse. Considerando a maioria dos estudantes, a mãe/responsável e/ou o pai/responsável têm ensino superior completo. Além de possuírem os bens dos níveis anteriores, a maioria dos estudantes deste nível passa a ter duas ou mais geladeiras, dois ou mais computadores, três ou mais televisões, três ou mais banheiros e dois ou mais carros."
   ]
  },
  {
   "cell_type": "code",
   "execution_count": null,
   "metadata": {
    "scrolled": true
   },
   "outputs": [],
   "source": [
    "inse_sp = inse_2019[inse_2019['NOME_UF'] == 'São Paulo'].drop(['CO_UF'], axis=1)\n",
    "inse_sp.head()"
   ]
  },
  {
   "cell_type": "code",
   "execution_count": null,
   "metadata": {},
   "outputs": [],
   "source": [
    "inse_sp.info()"
   ]
  },
  {
   "cell_type": "code",
   "execution_count": null,
   "metadata": {},
   "outputs": [],
   "source": [
    "inse_sp.rename(columns = {'CO_ESCOLA' : 'id_escola'}, inplace=True)\n",
    "inse_sp.head()"
   ]
  },
  {
   "cell_type": "markdown",
   "metadata": {},
   "source": [
    "# Analisando o df do INEP (Indicadores Educacionais)"
   ]
  },
  {
   "cell_type": "markdown",
   "metadata": {},
   "source": [
    "## CONTINUAR DAQUI"
   ]
  },
  {
   "cell_type": "markdown",
   "metadata": {},
   "source": [
    "Legenda\n",
    "\n",
    "* *ano* - Ano\n",
    "* *id_municipio* - ID do município (7 dígitos)\n",
    "* *id_escola* - ID da Escola\n",
    "* *localizacao* - Localização (rural ou urbana)\n",
    "* *rede* - Estadual ou Municipal\n",
    "* *atu_ei* - Média de Alunos por Turma - Educação Infantil\n",
    "* *atu_ei_creche* - Média de Alunos por Turma - Educação Infantil - Creche\n",
    "* *atu_ei_pre_escola* - Média de Alunos por Turma - Educação Infantil - Pré escola\n",
    "* *atu_ef* - Média de Alunos por Turma - Ensino Fundamental (Turmas Unificadas inclusas no cálculo do indicador a partir de 2017)\n",
    "* *atu_ef_anos_iniciais* - Média de Alunos por Turma - Ensino Fundamental Anos Iniciais\n",
    "* *atu_ef_anos_finais* - Média de Alunos por Turma - Ensino Fundamental Anos Finais\n",
    "* *atu_ef_1_ano* - Média de Alunos por Turma - Ensino Fundamental 1º ano\n",
    "* *atu_ef_2_ano* - Média de Alunos por Turma - Ensino Fundamental 2º ano\n",
    "* *atu_ef_3_ano* - Média de Alunos por Turma - Ensino Fundamental 3º ano\n",
    "* *atu_ef_4_ano* - Média de Alunos por Turma - Ensino Fundamental 4º ano\n",
    "* *atu_ef_5_ano* - Média de Alunos por Turma - Ensino Fundamental 5º ano\n",
    "* *atu_ef_6_ano* - Média de Alunos por Turma - Ensino Fundamental 6º ano\n"
   ]
  },
  {
   "cell_type": "code",
   "execution_count": null,
   "metadata": {},
   "outputs": [],
   "source": [
    "colunas = ['atu_ei', 'atu_ei_creche', 'atu_ei_pre_escola', 'atu_ef', 'atu_ef_anos_iniciais', 'atu_ef_anos_finais', 'atu_ef_1_ano', 'atu_ef_2_ano', 'atu_ef_3_ano', 'atu_ef_4_ano', 'atu_ef_5_ano', 'atu_ef_6_ano', 'atu_ef_7_ano', 'atu_ef_8_ano', 'atu_ef_9_ano', 'atu_ef_turmas_unif_multi_fluxo', 'had_ei', 'had_ei_creche', 'had_ei_pre_escola', 'had_ef', 'had_ef_anos_iniciais', 'had_ef_anos_finais', 'had_ef_1_ano', 'had_ef_2_ano', 'had_ef_3_ano', 'had_ef_4_ano', 'had_ef_5_ano', 'had_ef_6_ano', 'had_ef_7_ano', 'had_ef_8_ano', 'had_ef_9_ano', 'tdi_ef', 'tdi_ef_anos_iniciais', 'tdi_ef_anos_finais', 'tdi_ef_1_ano', 'tdi_ef_2_ano', 'tdi_ef_3_ano', 'tdi_ef_4_ano', 'tdi_ef_5_ano', 'tdi_ef_6_ano', 'tdi_ef_7_ano', 'tdi_ef_8_ano', 'tdi_ef_9_ano', 'taxa_aprovacao_ef', 'taxa_aprovacao_ef_anos_iniciais', 'taxa_aprovacao_ef_anos_finais', 'taxa_aprovacao_ef_1_ano', 'taxa_aprovacao_ef_2_ano', 'taxa_aprovacao_ef_3_ano', 'taxa_aprovacao_ef_4_ano', 'taxa_aprovacao_ef_5_ano', 'taxa_aprovacao_ef_6_ano', 'taxa_aprovacao_ef_7_ano', 'taxa_aprovacao_ef_8_ano', 'taxa_aprovacao_ef_9_ano', 'taxa_reprovacao_ef', 'taxa_reprovacao_ef_anos_iniciais', 'taxa_reprovacao_ef_anos_finais', 'taxa_reprovacao_ef_1_ano', 'taxa_reprovacao_ef_2_ano', 'taxa_reprovacao_ef_3_ano', 'taxa_reprovacao_ef_4_ano', 'taxa_reprovacao_ef_5_ano', 'taxa_reprovacao_ef_6_ano', 'taxa_reprovacao_ef_7_ano', 'taxa_reprovacao_ef_8_ano', 'taxa_reprovacao_ef_9_ano', 'taxa_abandono_ef', 'taxa_abandono_ef_anos_iniciais', 'taxa_abandono_ef_anos_finais', 'taxa_abandono_ef_1_ano', 'taxa_abandono_ef_2_ano', 'taxa_abandono_ef_3_ano', 'taxa_abandono_ef_4_ano', 'taxa_abandono_ef_5_ano', 'taxa_abandono_ef_6_ano', 'taxa_abandono_ef_7_ano', 'taxa_abandono_ef_8_ano', 'taxa_abandono_ef_9_ano', 'tnr_ef', 'tnr_ef_anos_iniciais', 'tnr_ef_anos_finais', 'tnr_ef_1_ano', 'tnr_ef_2_ano', 'tnr_ef_3_ano', 'tnr_ef_4_ano', 'tnr_ef_5_ano', 'tnr_ef_6_ano', 'tnr_ef_7_ano', 'tnr_ef_8_ano', 'tnr_ef_9_ano', 'dsu_ei', 'dsu_ei_creche', 'dsu_ei_pre_escola', 'dsu_ef', 'dsu_ef_anos_iniciais', 'dsu_ef_anos_finais', 'dsu_ep', 'dsu_eja', 'dsu_ee', 'afd_ei_grupo_1', 'afd_ei_grupo_2', 'afd_ei_grupo_3', 'afd_ei_grupo_4', 'afd_ei_grupo_5', 'afd_ef_grupo_1', 'afd_ef_grupo_2', 'afd_ef_grupo_3', 'afd_ef_grupo_4', 'afd_ef_grupo_5', 'afd_ef_anos_iniciais_grupo_1', 'afd_ef_anos_iniciais_grupo_2', 'afd_ef_anos_iniciais_grupo_3', 'afd_ef_anos_iniciais_grupo_4', 'afd_ef_anos_iniciais_grupo_5', 'afd_ef_anos_finais_grupo_1', 'afd_ef_anos_finais_grupo_2', 'afd_ef_anos_finais_grupo_3', 'afd_ef_anos_finais_grupo_4', 'afd_ef_anos_finais_grupo_5', 'afd_eja_fundamental_grupo_1', 'afd_eja_fundamental_grupo_2', 'afd_eja_fundamental_grupo_3', 'afd_eja_fundamental_grupo_4', 'afd_eja_fundamental_grupo_5', 'ird_media_regularidade_docente', 'ied_ef_nivel_1', 'ied_ef_nivel_2', 'ied_ef_nivel_3', 'ied_ef_nivel_4', 'ied_ef_nivel_5', 'ied_ef_nivel_6', 'ied_ef_anos_iniciais_nivel_1', 'ied_ef_anos_iniciais_nivel_2', 'ied_ef_anos_iniciais_nivel_3', 'ied_ef_anos_iniciais_nivel_4', 'ied_ef_anos_iniciais_nivel_5', 'ied_ef_anos_iniciais_nivel_6', 'ied_ef_anos_finais_nivel_1', 'ied_ef_anos_finais_nivel_2', 'ied_ef_anos_finais_nivel_3', 'ied_ef_anos_finais_nivel_4', 'ied_ef_anos_finais_nivel_5', 'ied_ef_anos_finais_nivel_6', 'icg_nivel_complexidade_gestao_escola']\n",
    "inep = inep.drop(colunas, axis=1)"
   ]
  },
  {
   "cell_type": "code",
   "execution_count": null,
   "metadata": {
    "scrolled": true
   },
   "outputs": [],
   "source": [
    "inep.head()"
   ]
  },
  {
   "cell_type": "code",
   "execution_count": null,
   "metadata": {},
   "outputs": [],
   "source": [
    "inep.info()"
   ]
  },
  {
   "cell_type": "code",
   "execution_count": null,
   "metadata": {},
   "outputs": [],
   "source": [
    "inep['atu_em'].isnull"
   ]
  },
  {
   "cell_type": "markdown",
   "metadata": {},
   "source": [
    "# Combinando os DFs do inep, inse e ideb"
   ]
  },
  {
   "cell_type": "code",
   "execution_count": null,
   "metadata": {},
   "outputs": [],
   "source": [
    "ideb_sp.info()"
   ]
  },
  {
   "cell_type": "code",
   "execution_count": null,
   "metadata": {
    "scrolled": true
   },
   "outputs": [],
   "source": [
    "inse_sp.info()"
   ]
  },
  {
   "cell_type": "code",
   "execution_count": null,
   "metadata": {},
   "outputs": [],
   "source": [
    "inep.info()"
   ]
  },
  {
   "cell_type": "code",
   "execution_count": null,
   "metadata": {},
   "outputs": [],
   "source": [
    "evasao_sp = ideb_sp.merge(inse_sp, how)"
   ]
  },
  {
   "cell_type": "code",
   "execution_count": null,
   "metadata": {},
   "outputs": [],
   "source": []
  },
  {
   "cell_type": "markdown",
   "metadata": {},
   "source": [
    "# CENSO ESCOLAR"
   ]
  },
  {
   "cell_type": "code",
   "execution_count": null,
   "metadata": {},
   "outputs": [],
   "source": [
    "censo = censo[censo['sigla_uf'] == 'SP']\n",
    "censo.head()"
   ]
  },
  {
   "cell_type": "code",
   "execution_count": null,
   "metadata": {},
   "outputs": [],
   "source": [
    "censo.info()"
   ]
  },
  {
   "cell_type": "code",
   "execution_count": null,
   "metadata": {},
   "outputs": [],
   "source": [
    "censo_turma = pd.read_csv('.\\BDs\\censo_turma.csv')"
   ]
  },
  {
   "cell_type": "markdown",
   "metadata": {},
   "source": [
    "<HR>"
   ]
  },
  {
   "cell_type": "code",
   "execution_count": null,
   "metadata": {},
   "outputs": [],
   "source": [
    "corr = ideb_tratado.corr()\n",
    "corr.style.background_gradient(cmap='coolwarm')"
   ]
  },
  {
   "cell_type": "code",
   "execution_count": null,
   "metadata": {},
   "outputs": [],
   "source": []
  },
  {
   "cell_type": "code",
   "execution_count": null,
   "metadata": {},
   "outputs": [],
   "source": []
  }
 ],
 "metadata": {
  "colab": {
   "authorship_tag": "ABX9TyPSHjH22dRbYpyBLpDQegwD",
   "include_colab_link": true,
   "name": "Projeto Tera - Evasão Escolar.ipynb",
   "provenance": []
  },
  "kernelspec": {
   "display_name": "Python 3",
   "language": "python",
   "name": "python3"
  },
  "language_info": {
   "codemirror_mode": {
    "name": "ipython",
    "version": 3
   },
   "file_extension": ".py",
   "mimetype": "text/x-python",
   "name": "python",
   "nbconvert_exporter": "python",
   "pygments_lexer": "ipython3",
   "version": "3.9.12"
  }
 },
 "nbformat": 4,
 "nbformat_minor": 1
}
